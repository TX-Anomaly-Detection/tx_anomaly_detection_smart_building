{
 "cells": [
  {
   "cell_type": "code",
   "execution_count": 1,
   "id": "a810ac4b",
   "metadata": {},
   "outputs": [],
   "source": [
    "import pandas as pd\n",
    "import numpy as np\n",
    "import seaborn as sns\n",
    "import matplotlib.pyplot as plt"
   ]
  },
  {
   "cell_type": "code",
   "execution_count": 2,
   "id": "88adcb2f",
   "metadata": {},
   "outputs": [],
   "source": [
    "from scipy.signal import argrelextrema"
   ]
  },
  {
   "cell_type": "code",
   "execution_count": 3,
   "id": "f518bb6b",
   "metadata": {},
   "outputs": [],
   "source": [
    "%matplotlib inline\n",
    "import pylab as pl"
   ]
  },
  {
   "cell_type": "code",
   "execution_count": 4,
   "id": "1c5df8a0",
   "metadata": {},
   "outputs": [],
   "source": [
    "import statsmodels.api as sm\n",
    "lowess = sm.nonparametric.lowess"
   ]
  },
  {
   "cell_type": "code",
   "execution_count": 5,
   "id": "be1bc70f",
   "metadata": {},
   "outputs": [],
   "source": [
    "import math"
   ]
  },
  {
   "cell_type": "code",
   "execution_count": 6,
   "id": "382ad31b",
   "metadata": {},
   "outputs": [],
   "source": [
    "from sklearn.cluster import KMeans\n",
    "from src2.utils import *"
   ]
  },
  {
   "cell_type": "code",
   "execution_count": 7,
   "id": "f13eb0c3",
   "metadata": {},
   "outputs": [],
   "source": [
    "def add_labels(x_list, y_list, labels):\n",
    "    for x,y,label in zip(x_list, y_list, labels):\n",
    "        plt.text(x+0.25, y-0.25, label)"
   ]
  },
  {
   "cell_type": "code",
   "execution_count": 8,
   "id": "15f8352c",
   "metadata": {},
   "outputs": [],
   "source": [
    "def make_test_data(seg_count, point_count):\n",
    "    x = np.random.uniform(2, 10, seg_count)\n",
    "    x = np.cumsum(x)\n",
    "    x *= 10 / x.max()\n",
    "    y = np.cumsum(np.random.uniform(-1, 1, seg_count))\n",
    "    X = np.random.uniform(0, 10, point_count)\n",
    "    Y = np.interp(X, x, y) + np.random.normal(0, 0.05, point_count)\n",
    "    return X, Y"
   ]
  },
  {
   "cell_type": "code",
   "execution_count": 9,
   "id": "af71363a",
   "metadata": {},
   "outputs": [],
   "source": [
    "from scipy import optimize\n",
    "\n",
    "def segments_fit(X, Y, count):\n",
    "    xmin = X.min()\n",
    "    xmax = X.max()\n",
    "\n",
    "    seg = np.full(count - 1, (xmax - xmin) / count)\n",
    "\n",
    "    px_init = np.r_[np.r_[xmin, seg].cumsum(), xmax]\n",
    "    py_init = np.array([Y[np.abs(X - x) < (xmax - xmin) * 0.01].mean() for x in px_init])\n",
    "\n",
    "    def func(p):\n",
    "        seg = p[:count - 1]\n",
    "        py = p[count - 1:]\n",
    "        px = np.r_[np.r_[xmin, seg].cumsum(), xmax]\n",
    "        return px, py\n",
    "\n",
    "    def err(p):\n",
    "        px, py = func(p)\n",
    "        Y2 = np.interp(X, px, py)\n",
    "        return np.mean((Y - Y2)**2)\n",
    "\n",
    "    r = optimize.minimize(err, x0=np.r_[seg, py_init], method='Nelder-Mead')\n",
    "    return func(r.x)"
   ]
  },
  {
   "cell_type": "code",
   "execution_count": 10,
   "id": "ef10a83a",
   "metadata": {},
   "outputs": [],
   "source": [
    "def trouver_df_groupee(nom_fichier):\n",
    "    df=pd.read_csv(nom_fichier)\n",
    "    df[\"Timestamp\"] = pd.to_datetime(df[\"timestamp\"])\n",
    "    df_gb = df.groupby(pd.Grouper(key=\"Timestamp\", axis=0, freq=\"D\")).mean()\n",
    "    df_gb.reset_index(inplace=True)\n",
    "    return df_gb\n",
    "# trouver_df_groupee(\"./sensor.csv\")"
   ]
  },
  {
   "cell_type": "code",
   "execution_count": 35,
   "id": "33c2b539",
   "metadata": {},
   "outputs": [
    {
     "data": {
      "text/html": [
       "<div>\n",
       "<style scoped>\n",
       "    .dataframe tbody tr th:only-of-type {\n",
       "        vertical-align: middle;\n",
       "    }\n",
       "\n",
       "    .dataframe tbody tr th {\n",
       "        vertical-align: top;\n",
       "    }\n",
       "\n",
       "    .dataframe thead th {\n",
       "        text-align: right;\n",
       "    }\n",
       "</style>\n",
       "<table border=\"1\" class=\"dataframe\">\n",
       "  <thead>\n",
       "    <tr style=\"text-align: right;\">\n",
       "      <th></th>\n",
       "      <th>Timestamp</th>\n",
       "      <th>Unnamed: 0</th>\n",
       "      <th>sensor_00</th>\n",
       "      <th>sensor_01</th>\n",
       "      <th>sensor_02</th>\n",
       "      <th>sensor_03</th>\n",
       "      <th>sensor_04</th>\n",
       "      <th>sensor_05</th>\n",
       "      <th>sensor_06</th>\n",
       "      <th>sensor_07</th>\n",
       "      <th>...</th>\n",
       "      <th>sensor_42</th>\n",
       "      <th>sensor_43</th>\n",
       "      <th>sensor_44</th>\n",
       "      <th>sensor_45</th>\n",
       "      <th>sensor_46</th>\n",
       "      <th>sensor_47</th>\n",
       "      <th>sensor_48</th>\n",
       "      <th>sensor_49</th>\n",
       "      <th>sensor_50</th>\n",
       "      <th>sensor_51</th>\n",
       "    </tr>\n",
       "  </thead>\n",
       "  <tbody>\n",
       "    <tr>\n",
       "      <th>0</th>\n",
       "      <td>2018-04-01</td>\n",
       "      <td>719.5</td>\n",
       "      <td>2.454139</td>\n",
       "      <td>47.318882</td>\n",
       "      <td>52.567363</td>\n",
       "      <td>45.273315</td>\n",
       "      <td>634.166035</td>\n",
       "      <td>74.516172</td>\n",
       "      <td>13.348212</td>\n",
       "      <td>16.161459</td>\n",
       "      <td>...</td>\n",
       "      <td>32.626770</td>\n",
       "      <td>40.682243</td>\n",
       "      <td>50.859817</td>\n",
       "      <td>51.617557</td>\n",
       "      <td>45.070015</td>\n",
       "      <td>39.786884</td>\n",
       "      <td>197.029723</td>\n",
       "      <td>92.171022</td>\n",
       "      <td>241.056817</td>\n",
       "      <td>217.054678</td>\n",
       "    </tr>\n",
       "    <tr>\n",
       "      <th>1</th>\n",
       "      <td>2018-04-02</td>\n",
       "      <td>2159.5</td>\n",
       "      <td>2.429367</td>\n",
       "      <td>48.595226</td>\n",
       "      <td>52.199163</td>\n",
       "      <td>44.094026</td>\n",
       "      <td>635.990899</td>\n",
       "      <td>77.960694</td>\n",
       "      <td>13.340421</td>\n",
       "      <td>16.161022</td>\n",
       "      <td>...</td>\n",
       "      <td>33.555409</td>\n",
       "      <td>43.272566</td>\n",
       "      <td>46.112437</td>\n",
       "      <td>66.206316</td>\n",
       "      <td>53.731031</td>\n",
       "      <td>40.172284</td>\n",
       "      <td>203.099479</td>\n",
       "      <td>73.322964</td>\n",
       "      <td>243.407801</td>\n",
       "      <td>205.087368</td>\n",
       "    </tr>\n",
       "    <tr>\n",
       "      <th>2</th>\n",
       "      <td>2018-04-03</td>\n",
       "      <td>3599.5</td>\n",
       "      <td>2.435093</td>\n",
       "      <td>49.266702</td>\n",
       "      <td>52.060062</td>\n",
       "      <td>44.336599</td>\n",
       "      <td>640.359938</td>\n",
       "      <td>76.903797</td>\n",
       "      <td>13.452223</td>\n",
       "      <td>16.301238</td>\n",
       "      <td>...</td>\n",
       "      <td>34.660190</td>\n",
       "      <td>42.534900</td>\n",
       "      <td>44.204121</td>\n",
       "      <td>47.936961</td>\n",
       "      <td>42.168222</td>\n",
       "      <td>40.946113</td>\n",
       "      <td>157.432927</td>\n",
       "      <td>64.259821</td>\n",
       "      <td>201.386879</td>\n",
       "      <td>201.646492</td>\n",
       "    </tr>\n",
       "    <tr>\n",
       "      <th>3</th>\n",
       "      <td>2018-04-04</td>\n",
       "      <td>5039.5</td>\n",
       "      <td>2.452493</td>\n",
       "      <td>50.429565</td>\n",
       "      <td>51.959000</td>\n",
       "      <td>45.096479</td>\n",
       "      <td>640.173640</td>\n",
       "      <td>75.858830</td>\n",
       "      <td>13.512238</td>\n",
       "      <td>16.511281</td>\n",
       "      <td>...</td>\n",
       "      <td>34.545354</td>\n",
       "      <td>43.123188</td>\n",
       "      <td>42.631220</td>\n",
       "      <td>45.638222</td>\n",
       "      <td>43.511485</td>\n",
       "      <td>40.603311</td>\n",
       "      <td>154.669415</td>\n",
       "      <td>67.019917</td>\n",
       "      <td>213.312395</td>\n",
       "      <td>204.283411</td>\n",
       "    </tr>\n",
       "    <tr>\n",
       "      <th>4</th>\n",
       "      <td>2018-04-05</td>\n",
       "      <td>6479.5</td>\n",
       "      <td>2.454101</td>\n",
       "      <td>49.353086</td>\n",
       "      <td>52.096564</td>\n",
       "      <td>43.982806</td>\n",
       "      <td>636.350491</td>\n",
       "      <td>76.824878</td>\n",
       "      <td>13.425036</td>\n",
       "      <td>16.227121</td>\n",
       "      <td>...</td>\n",
       "      <td>33.312353</td>\n",
       "      <td>42.356406</td>\n",
       "      <td>45.254630</td>\n",
       "      <td>46.999582</td>\n",
       "      <td>44.231047</td>\n",
       "      <td>39.532897</td>\n",
       "      <td>213.241463</td>\n",
       "      <td>82.239020</td>\n",
       "      <td>240.274159</td>\n",
       "      <td>234.841377</td>\n",
       "    </tr>\n",
       "    <tr>\n",
       "      <th>...</th>\n",
       "      <td>...</td>\n",
       "      <td>...</td>\n",
       "      <td>...</td>\n",
       "      <td>...</td>\n",
       "      <td>...</td>\n",
       "      <td>...</td>\n",
       "      <td>...</td>\n",
       "      <td>...</td>\n",
       "      <td>...</td>\n",
       "      <td>...</td>\n",
       "      <td>...</td>\n",
       "      <td>...</td>\n",
       "      <td>...</td>\n",
       "      <td>...</td>\n",
       "      <td>...</td>\n",
       "      <td>...</td>\n",
       "      <td>...</td>\n",
       "      <td>...</td>\n",
       "      <td>...</td>\n",
       "      <td>...</td>\n",
       "      <td>...</td>\n",
       "    </tr>\n",
       "    <tr>\n",
       "      <th>148</th>\n",
       "      <td>2018-08-27</td>\n",
       "      <td>213839.5</td>\n",
       "      <td>2.397325</td>\n",
       "      <td>49.077267</td>\n",
       "      <td>50.995007</td>\n",
       "      <td>44.272972</td>\n",
       "      <td>629.476285</td>\n",
       "      <td>75.191813</td>\n",
       "      <td>14.732405</td>\n",
       "      <td>16.555016</td>\n",
       "      <td>...</td>\n",
       "      <td>31.871201</td>\n",
       "      <td>44.036998</td>\n",
       "      <td>45.100107</td>\n",
       "      <td>45.915163</td>\n",
       "      <td>54.741151</td>\n",
       "      <td>41.868824</td>\n",
       "      <td>265.343482</td>\n",
       "      <td>75.546955</td>\n",
       "      <td>NaN</td>\n",
       "      <td>215.756213</td>\n",
       "    </tr>\n",
       "    <tr>\n",
       "      <th>149</th>\n",
       "      <td>2018-08-28</td>\n",
       "      <td>215279.5</td>\n",
       "      <td>2.484509</td>\n",
       "      <td>48.750963</td>\n",
       "      <td>50.825465</td>\n",
       "      <td>44.272459</td>\n",
       "      <td>631.976319</td>\n",
       "      <td>72.276470</td>\n",
       "      <td>15.060769</td>\n",
       "      <td>16.604658</td>\n",
       "      <td>...</td>\n",
       "      <td>31.891636</td>\n",
       "      <td>43.499707</td>\n",
       "      <td>46.501254</td>\n",
       "      <td>60.823367</td>\n",
       "      <td>61.883520</td>\n",
       "      <td>42.537334</td>\n",
       "      <td>282.142366</td>\n",
       "      <td>72.129388</td>\n",
       "      <td>NaN</td>\n",
       "      <td>217.672568</td>\n",
       "    </tr>\n",
       "    <tr>\n",
       "      <th>150</th>\n",
       "      <td>2018-08-29</td>\n",
       "      <td>216719.5</td>\n",
       "      <td>2.462678</td>\n",
       "      <td>48.388881</td>\n",
       "      <td>51.325923</td>\n",
       "      <td>44.761404</td>\n",
       "      <td>629.564036</td>\n",
       "      <td>76.858206</td>\n",
       "      <td>15.095380</td>\n",
       "      <td>16.576662</td>\n",
       "      <td>...</td>\n",
       "      <td>32.484627</td>\n",
       "      <td>43.391200</td>\n",
       "      <td>51.786748</td>\n",
       "      <td>65.166860</td>\n",
       "      <td>61.894571</td>\n",
       "      <td>42.187888</td>\n",
       "      <td>313.535835</td>\n",
       "      <td>87.895648</td>\n",
       "      <td>NaN</td>\n",
       "      <td>217.231304</td>\n",
       "    </tr>\n",
       "    <tr>\n",
       "      <th>151</th>\n",
       "      <td>2018-08-30</td>\n",
       "      <td>218159.5</td>\n",
       "      <td>2.440611</td>\n",
       "      <td>49.141889</td>\n",
       "      <td>51.904927</td>\n",
       "      <td>45.522188</td>\n",
       "      <td>628.580324</td>\n",
       "      <td>73.744396</td>\n",
       "      <td>15.075095</td>\n",
       "      <td>16.537262</td>\n",
       "      <td>...</td>\n",
       "      <td>33.278354</td>\n",
       "      <td>42.855538</td>\n",
       "      <td>57.698969</td>\n",
       "      <td>55.559976</td>\n",
       "      <td>56.916112</td>\n",
       "      <td>45.339225</td>\n",
       "      <td>280.001366</td>\n",
       "      <td>95.470236</td>\n",
       "      <td>NaN</td>\n",
       "      <td>221.649949</td>\n",
       "    </tr>\n",
       "    <tr>\n",
       "      <th>152</th>\n",
       "      <td>2018-08-31</td>\n",
       "      <td>219599.5</td>\n",
       "      <td>2.405018</td>\n",
       "      <td>49.936510</td>\n",
       "      <td>51.586721</td>\n",
       "      <td>44.554022</td>\n",
       "      <td>630.861161</td>\n",
       "      <td>72.276348</td>\n",
       "      <td>15.068712</td>\n",
       "      <td>16.761316</td>\n",
       "      <td>...</td>\n",
       "      <td>33.327713</td>\n",
       "      <td>42.258174</td>\n",
       "      <td>68.413490</td>\n",
       "      <td>59.472377</td>\n",
       "      <td>57.594509</td>\n",
       "      <td>45.046667</td>\n",
       "      <td>283.238814</td>\n",
       "      <td>119.338611</td>\n",
       "      <td>NaN</td>\n",
       "      <td>227.588420</td>\n",
       "    </tr>\n",
       "  </tbody>\n",
       "</table>\n",
       "<p>153 rows × 54 columns</p>\n",
       "</div>"
      ],
      "text/plain": [
       "     Timestamp  Unnamed: 0  sensor_00  sensor_01  sensor_02  sensor_03  \\\n",
       "0   2018-04-01       719.5   2.454139  47.318882  52.567363  45.273315   \n",
       "1   2018-04-02      2159.5   2.429367  48.595226  52.199163  44.094026   \n",
       "2   2018-04-03      3599.5   2.435093  49.266702  52.060062  44.336599   \n",
       "3   2018-04-04      5039.5   2.452493  50.429565  51.959000  45.096479   \n",
       "4   2018-04-05      6479.5   2.454101  49.353086  52.096564  43.982806   \n",
       "..         ...         ...        ...        ...        ...        ...   \n",
       "148 2018-08-27    213839.5   2.397325  49.077267  50.995007  44.272972   \n",
       "149 2018-08-28    215279.5   2.484509  48.750963  50.825465  44.272459   \n",
       "150 2018-08-29    216719.5   2.462678  48.388881  51.325923  44.761404   \n",
       "151 2018-08-30    218159.5   2.440611  49.141889  51.904927  45.522188   \n",
       "152 2018-08-31    219599.5   2.405018  49.936510  51.586721  44.554022   \n",
       "\n",
       "      sensor_04  sensor_05  sensor_06  sensor_07  ...  sensor_42  sensor_43  \\\n",
       "0    634.166035  74.516172  13.348212  16.161459  ...  32.626770  40.682243   \n",
       "1    635.990899  77.960694  13.340421  16.161022  ...  33.555409  43.272566   \n",
       "2    640.359938  76.903797  13.452223  16.301238  ...  34.660190  42.534900   \n",
       "3    640.173640  75.858830  13.512238  16.511281  ...  34.545354  43.123188   \n",
       "4    636.350491  76.824878  13.425036  16.227121  ...  33.312353  42.356406   \n",
       "..          ...        ...        ...        ...  ...        ...        ...   \n",
       "148  629.476285  75.191813  14.732405  16.555016  ...  31.871201  44.036998   \n",
       "149  631.976319  72.276470  15.060769  16.604658  ...  31.891636  43.499707   \n",
       "150  629.564036  76.858206  15.095380  16.576662  ...  32.484627  43.391200   \n",
       "151  628.580324  73.744396  15.075095  16.537262  ...  33.278354  42.855538   \n",
       "152  630.861161  72.276348  15.068712  16.761316  ...  33.327713  42.258174   \n",
       "\n",
       "     sensor_44  sensor_45  sensor_46  sensor_47   sensor_48   sensor_49  \\\n",
       "0    50.859817  51.617557  45.070015  39.786884  197.029723   92.171022   \n",
       "1    46.112437  66.206316  53.731031  40.172284  203.099479   73.322964   \n",
       "2    44.204121  47.936961  42.168222  40.946113  157.432927   64.259821   \n",
       "3    42.631220  45.638222  43.511485  40.603311  154.669415   67.019917   \n",
       "4    45.254630  46.999582  44.231047  39.532897  213.241463   82.239020   \n",
       "..         ...        ...        ...        ...         ...         ...   \n",
       "148  45.100107  45.915163  54.741151  41.868824  265.343482   75.546955   \n",
       "149  46.501254  60.823367  61.883520  42.537334  282.142366   72.129388   \n",
       "150  51.786748  65.166860  61.894571  42.187888  313.535835   87.895648   \n",
       "151  57.698969  55.559976  56.916112  45.339225  280.001366   95.470236   \n",
       "152  68.413490  59.472377  57.594509  45.046667  283.238814  119.338611   \n",
       "\n",
       "      sensor_50   sensor_51  \n",
       "0    241.056817  217.054678  \n",
       "1    243.407801  205.087368  \n",
       "2    201.386879  201.646492  \n",
       "3    213.312395  204.283411  \n",
       "4    240.274159  234.841377  \n",
       "..          ...         ...  \n",
       "148         NaN  215.756213  \n",
       "149         NaN  217.672568  \n",
       "150         NaN  217.231304  \n",
       "151         NaN  221.649949  \n",
       "152         NaN  227.588420  \n",
       "\n",
       "[153 rows x 54 columns]"
      ]
     },
     "execution_count": 35,
     "metadata": {},
     "output_type": "execute_result"
    }
   ],
   "source": [
    "df_g = trouver_df_groupee(\"./sensor.csv\")\n",
    "df_g"
   ]
  },
  {
   "cell_type": "code",
   "execution_count": 57,
   "id": "10fa2d97",
   "metadata": {},
   "outputs": [],
   "source": [
    "def calculate_list_state(string_nom_sensor, df_gb):\n",
    "    # lowess\n",
    "    x=pd.to_numeric(df_gb.index)\n",
    "    y=pd.to_numeric(df_gb[string_nom_sensor])\n",
    "    result = lowess(y, x, frac=0.05, it=3, delta=0.0)\n",
    "    ar =[]\n",
    "    for i in range(len(result[0])):\n",
    "        b =[]\n",
    "        for j in range(len(result)):\n",
    "            b.append(result[j][i])\n",
    "        ar.append(b)\n",
    "    #matrix distance\n",
    "    tab_dist = []\n",
    "    for i in range(len(ar[0])):\n",
    "        tab_dist.append([])\n",
    "    for i in range(len(ar[0])):    \n",
    "        for j in range(len(ar[1])):\n",
    "            tab_dist[i].append([])\n",
    "    for i in range(len(ar[0])):\n",
    "        for j in range(len(ar[1])):\n",
    "            tab_dist[i][j] = abs(ar[1][i] - ar[1][j] )\n",
    "    #cliassification : k-means\n",
    "    cls = KMeans(n_clusters=3, init=\"random\")\n",
    "    cls.fit(tab_dist)\n",
    "    labels_k = pd.Series(cls.labels_, name=\"K-means\")\n",
    "    # classer de nb plus à moins(proba plus : normal -> abnormal)\n",
    "    n1=len(labels_k[labels_k==0])\n",
    "    n2=len(labels_k[labels_k==1])\n",
    "    n3=len(labels_k[labels_k==2])\n",
    "    if n1 > max(n2,n3):\n",
    "        labels_k[labels_k==0] = 4\n",
    "        if n2 > n3:\n",
    "            labels_k[labels_k==1] = 5\n",
    "            labels_k[labels_k==2] = 6\n",
    "        else:\n",
    "            labels_k[labels_k==1] = 6\n",
    "            labels_k[labels_k==2] = 5\n",
    "    elif n2 > max(n1,n3):\n",
    "        labels_k[labels_k==1] = 4\n",
    "        if n1 > n3:\n",
    "            labels_k[labels_k==0] = 5\n",
    "            labels_k[labels_k==2] = 6\n",
    "        else:\n",
    "            labels_k[labels_k==0] = 6\n",
    "            labels_k[labels_k==2] = 5\n",
    "    else:\n",
    "        labels_k[labels_k==3] = 4\n",
    "        if n1 > n2:\n",
    "            labels_k[labels_k==0] = 5\n",
    "            labels_k[labels_k==1] = 6\n",
    "        else:\n",
    "            labels_k[labels_k==0] = 6\n",
    "            labels_k[labels_k==1] = 5\n",
    "    list_labels_k = []\n",
    "    labels_k[labels_k==4] = 0\n",
    "    a = 1\n",
    "    labels_k[labels_k==5] = 1\n",
    "    b = 1\n",
    "    labels_k[labels_k==6] = 2\n",
    "    c = 1\n",
    "    #to list\n",
    "    list_labels_k = labels_k.to_list()\n",
    "    return labels_k,ar # list state for this sensor"
   ]
  },
  {
   "cell_type": "code",
   "execution_count": 58,
   "id": "1171524e",
   "metadata": {},
   "outputs": [],
   "source": [
    "def trouver_transitionMatrix(array_labels,dim):\n",
    "    tab_proba=[]\n",
    "    for i in range(dim):\n",
    "        tab_proba.append([])\n",
    "    for i in range(dim):    \n",
    "        for j in range(dim):\n",
    "            tab_proba[i].append(0)\n",
    "    \n",
    "    for i in range(len(array_labels)-1) : \n",
    "        a=array_labels[i]\n",
    "        b=array_labels[i+1]\n",
    "        tab_proba[a][b] = tab_proba[a][b]+1 \n",
    "    for i in range(dim):\n",
    "        sum_ligne = sum(tab_proba[i])\n",
    "        for j in range(dim):\n",
    "            tab_proba[i][j] = tab_proba[i][j]/sum_ligne\n",
    "    return tab_proba"
   ]
  },
  {
   "cell_type": "code",
   "execution_count": 59,
   "id": "08812bf0",
   "metadata": {},
   "outputs": [],
   "source": [
    "def trouver_tabres_proba_markovain(list_state_sensor_but, transitionMatrix):\n",
    "    tab_pb_res=[]\n",
    "    for i in range(len(list_state_sensor_but)):\n",
    "        tab_pb_res.append(1)\n",
    "    for i in range(len(list_state_sensor_but)-5) :\n",
    "        nb_proba = 1\n",
    "        for j in range(5) :\n",
    "            nb_proba = nb_proba * transitionMatrix[list_state_sensor_but[i+j]][list_state_sensor_but[i+j+1]]\n",
    "        tab_pb_res[i+j+1] = nb_proba\n",
    "    return tab_pb_res"
   ]
  },
  {
   "cell_type": "code",
   "execution_count": 60,
   "id": "76adbc0a",
   "metadata": {},
   "outputs": [],
   "source": [
    "def trouver_OK_Erreur_Label(tab_pb_res):\n",
    "    tab_label  = []\n",
    "    for i in tab_pb_res:\n",
    "        if i > 0.5:\n",
    "            tab_label.append(\"OK\")\n",
    "        else :\n",
    "            tab_label.append(\"Erreur\")\n",
    "    return tab_label"
   ]
  },
  {
   "cell_type": "code",
   "execution_count": 67,
   "id": "ae2ddaa5",
   "metadata": {},
   "outputs": [],
   "source": [
    "def M_markovain(data_df,nom_train_data,nom_test_data): \n",
    "    state_sensor_train,valeur_lowess_sensor_train = calculate_list_state(nom_train_data,data_df)\n",
    "    list_state_sensor_train = state_sensor_train.to_list()\n",
    "    \n",
    "    state_sensor_test,valeur_lowess_sensor_test = calculate_list_state(nom_test_data,data_df)\n",
    "    list_state_sensor_test = state_sensor_test.to_list()\n",
    "    \n",
    "    transitionMatrix = trouver_transitionMatrix(state_sensor_train,3)\n",
    "    \n",
    "    tab_pb_res = trouver_tabres_proba_markovain(list_state_sensor_test,transitionMatrix)\n",
    "    tab_label_res = trouver_OK_Erreur_Label(tab_pb_res)\n",
    "    \n",
    "    sns.scatterplot(x = valeur_lowess_sensor_test[0], y=valeur_lowess_sensor_test[1], hue=tab_label_res)\n",
    "    plt.show()"
   ]
  },
  {
   "cell_type": "code",
   "execution_count": null,
   "id": "c3b5a80b",
   "metadata": {},
   "outputs": [],
   "source": []
  },
  {
   "cell_type": "code",
   "execution_count": 41,
   "id": "fb01be2a",
   "metadata": {},
   "outputs": [],
   "source": [
    "# state_sensor8,valeur_lowess_sensor8 = calculate_list_state(\"sensor_08\",df_g)\n",
    "# list_state_sensor8 = state_sensor8.to_list()\n",
    "# sns.scatterplot(x = df_g[\"Timestamp\"][1:-1], y=valeur_lowess_sensor8[1], hue=list_state_sensor8)\n",
    "# plt.show()"
   ]
  },
  {
   "cell_type": "code",
   "execution_count": 42,
   "id": "467cf19f",
   "metadata": {},
   "outputs": [],
   "source": [
    "# q=1"
   ]
  },
  {
   "cell_type": "code",
   "execution_count": 43,
   "id": "61cace58",
   "metadata": {},
   "outputs": [],
   "source": [
    "# state_sensor1,valeur_lowess_sensor1 = calculate_list_state(\"sensor_01\",df_g)\n",
    "# list_state_sensor1 = state_sensor1.to_list()\n",
    "# sns.scatterplot(x = df_g[\"Timestamp\"], y=valeur_lowess_sensor1[1], hue=list_state_sensor1)\n",
    "# plt.show()"
   ]
  },
  {
   "cell_type": "code",
   "execution_count": 44,
   "id": "f6f85a5f",
   "metadata": {},
   "outputs": [],
   "source": [
    "# transitionMatrix8 = trouver_transitionMatrix(state_sensor8,3)"
   ]
  },
  {
   "cell_type": "code",
   "execution_count": 45,
   "id": "a32711d0",
   "metadata": {},
   "outputs": [],
   "source": [
    "# if sum(transitionMatrix8[0])+sum(transitionMatrix8[1])+sum(transitionMatrix8[1]) != 3:\n",
    "#     print(\"Somewhere, something went wrong. Transition matrix, perhaps?\")\n",
    "# else: print(\"All is gonna be okay, you should move on!! ;)\")"
   ]
  },
  {
   "cell_type": "code",
   "execution_count": 46,
   "id": "fedad64f",
   "metadata": {},
   "outputs": [],
   "source": [
    "# tab_pb_res1 = trouver_tabres_proba_markovain(list_state_sensor1,transitionMatrix8)\n",
    "# tab_label1 = trouver_OK_Erreur_Label(tab_pb_res1)"
   ]
  },
  {
   "cell_type": "code",
   "execution_count": 47,
   "id": "fea8a3ae",
   "metadata": {},
   "outputs": [],
   "source": [
    "# sns.scatterplot(x = df_g[\"Timestamp\"], y=valeur_lowess_sensor1[1], hue=tab_label1)\n",
    "# plt.show()"
   ]
  },
  {
   "cell_type": "code",
   "execution_count": null,
   "id": "79d2acfe",
   "metadata": {},
   "outputs": [],
   "source": []
  },
  {
   "cell_type": "code",
   "execution_count": null,
   "id": "d8f3bf90",
   "metadata": {},
   "outputs": [],
   "source": []
  },
  {
   "cell_type": "code",
   "execution_count": null,
   "id": "ae99b8ff",
   "metadata": {},
   "outputs": [],
   "source": []
  },
  {
   "cell_type": "code",
   "execution_count": null,
   "id": "300e5182",
   "metadata": {},
   "outputs": [],
   "source": [
    "# it's possible that it has some error of lance in first time \n",
    "# it's not problem of logique, it's ptoblem of stockage or else that i don't realy understand\n",
    "# try seconde time and it could go on"
   ]
  },
  {
   "cell_type": "code",
   "execution_count": null,
   "id": "cf75dc67",
   "metadata": {},
   "outputs": [],
   "source": []
  },
  {
   "cell_type": "code",
   "execution_count": 73,
   "id": "8a0b5562",
   "metadata": {},
   "outputs": [
    {
     "data": {
      "text/plain": [
       "<function matplotlib.pyplot.show(close=None, block=None)>"
      ]
     },
     "execution_count": 73,
     "metadata": {},
     "output_type": "execute_result"
    },
    {
     "data": {
      "image/png": "[encoded data removed]",
      "text/plain": [
       "<Figure size 432x288 with 1 Axes>"
      ]
     },
     "metadata": {
      "needs_background": "light"
     },
     "output_type": "display_data"
    }
   ],
   "source": [
    "sns.lineplot(x=\"Timestamp\", y=\"sensor_08\", data=df_g)\n",
    "plt.show"
   ]
  },
  {
   "cell_type": "code",
   "execution_count": null,
   "id": "65163f60",
   "metadata": {},
   "outputs": [],
   "source": []
  },
  {
   "cell_type": "code",
   "execution_count": 68,
   "id": "ae7a3da4",
   "metadata": {},
   "outputs": [
    {
     "data": {
      "image/png": "[encoded data removed]",
      "text/plain": [
       "<Figure size 432x288 with 1 Axes>"
      ]
     },
     "metadata": {
      "needs_background": "light"
     },
     "output_type": "display_data"
    }
   ],
   "source": [
    "M_markovain(df_g,\"sensor_08\",\"sensor_01\")"
   ]
  },
  {
   "cell_type": "code",
   "execution_count": 69,
   "id": "5a9af58e",
   "metadata": {},
   "outputs": [
    {
     "data": {
      "image/png": "[encoded data removed]",
      "text/plain": [
       "<Figure size 432x288 with 1 Axes>"
      ]
     },
     "metadata": {
      "needs_background": "light"
     },
     "output_type": "display_data"
    }
   ],
   "source": [
    "M_markovain(df_g,\"sensor_08\",\"sensor_51\")"
   ]
  },
  {
   "cell_type": "code",
   "execution_count": 71,
   "id": "4deaf7d0",
   "metadata": {},
   "outputs": [
    {
     "data": {
      "image/png": "[encoded data removed]",
      "text/plain": [
       "<Figure size 432x288 with 1 Axes>"
      ]
     },
     "metadata": {
      "needs_background": "light"
     },
     "output_type": "display_data"
    }
   ],
   "source": [
    "M_markovain(df_g,\"sensor_08\",\"sensor_02\")"
   ]
  },
  {
   "cell_type": "code",
   "execution_count": null,
   "id": "0ac64e2b",
   "metadata": {},
   "outputs": [],
   "source": []
  },
  {
   "cell_type": "code",
   "execution_count": null,
   "id": "ae5bd726",
   "metadata": {},
   "outputs": [],
   "source": []
  },
  {
   "cell_type": "code",
   "execution_count": null,
   "id": "44a0e828",
   "metadata": {},
   "outputs": [],
   "source": []
  },
  {
   "cell_type": "code",
   "execution_count": null,
   "id": "7d5b3167",
   "metadata": {},
   "outputs": [],
   "source": []
  },
  {
   "cell_type": "code",
   "execution_count": null,
   "id": "3161753a",
   "metadata": {},
   "outputs": [],
   "source": []
  },
  {
   "cell_type": "code",
   "execution_count": null,
   "id": "0db18062",
   "metadata": {},
   "outputs": [],
   "source": []
  },
  {
   "cell_type": "code",
   "execution_count": null,
   "id": "97af676c",
   "metadata": {},
   "outputs": [],
   "source": []
  }
 ],
 "metadata": {
  "kernelspec": {
   "display_name": "Python 3 (ipykernel)",
   "language": "python",
   "name": "python3"
  },
  "language_info": {
   "codemirror_mode": {
    "name": "ipython",
    "version": 3
   },
   "file_extension": ".py",
   "mimetype": "text/x-python",
   "name": "python",
   "nbconvert_exporter": "python",
   "pygments_lexer": "ipython3",
   "version": "3.9.7"
  }
 },
 "nbformat": 4,
 "nbformat_minor": 5
}
