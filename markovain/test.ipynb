{
 "cells": [
  {
   "cell_type": "code",
   "execution_count": 8,
   "id": "a5751b71",
   "metadata": {},
   "outputs": [],
   "source": [
    "import pandas as pd\n",
    "import numpy as np\n",
    "import seaborn as sns\n",
    "import matplotlib.pyplot as plt"
   ]
  },
  {
   "cell_type": "code",
   "execution_count": 9,
   "id": "15bc7e94",
   "metadata": {},
   "outputs": [],
   "source": [
    "from scipy.signal import argrelextrema"
   ]
  },
  {
   "cell_type": "code",
   "execution_count": 10,
   "id": "c0bbcd7e",
   "metadata": {},
   "outputs": [],
   "source": [
    "%matplotlib inline\n",
    "import pylab as pl"
   ]
  },
  {
   "cell_type": "code",
   "execution_count": 11,
   "id": "cfebf741",
   "metadata": {},
   "outputs": [],
   "source": [
    "import statsmodels.api as sm\n",
    "lowess = sm.nonparametric.lowess"
   ]
  },
  {
   "cell_type": "code",
   "execution_count": 12,
   "id": "746af948",
   "metadata": {},
   "outputs": [],
   "source": [
    "def make_test_data(seg_count, point_count):\n",
    "    x = np.random.uniform(2, 10, seg_count)\n",
    "    x = np.cumsum(x)\n",
    "    x *= 10 / x.max()\n",
    "    y = np.cumsum(np.random.uniform(-1, 1, seg_count))\n",
    "    X = np.random.uniform(0, 10, point_count)\n",
    "    Y = np.interp(X, x, y) + np.random.normal(0, 0.05, point_count)\n",
    "    return X, Y"
   ]
  },
  {
   "cell_type": "code",
   "execution_count": 13,
   "id": "ee08cd78",
   "metadata": {},
   "outputs": [],
   "source": [
    "from scipy import optimize\n",
    "\n",
    "def segments_fit(X, Y, count):\n",
    "    xmin = X.min()\n",
    "    xmax = X.max()\n",
    "\n",
    "    seg = np.full(count - 1, (xmax - xmin) / count)\n",
    "\n",
    "    px_init = np.r_[np.r_[xmin, seg].cumsum(), xmax]\n",
    "    py_init = np.array([Y[np.abs(X - x) < (xmax - xmin) * 0.01].mean() for x in px_init])\n",
    "\n",
    "    def func(p):\n",
    "        seg = p[:count - 1]\n",
    "        py = p[count - 1:]\n",
    "        px = np.r_[np.r_[xmin, seg].cumsum(), xmax]\n",
    "        return px, py\n",
    "\n",
    "    def err(p):\n",
    "        px, py = func(p)\n",
    "        Y2 = np.interp(X, px, py)\n",
    "        return np.mean((Y - Y2)**2)\n",
    "\n",
    "    r = optimize.minimize(err, x0=np.r_[seg, py_init], method='Nelder-Mead')\n",
    "    return func(r.x)"
   ]
  },
  {
   "cell_type": "code",
   "execution_count": 14,
   "id": "fc75d6e7",
   "metadata": {},
   "outputs": [
    {
     "data": {
      "text/html": [
       "<div>\n",
       "<style scoped>\n",
       "    .dataframe tbody tr th:only-of-type {\n",
       "        vertical-align: middle;\n",
       "    }\n",
       "\n",
       "    .dataframe tbody tr th {\n",
       "        vertical-align: top;\n",
       "    }\n",
       "\n",
       "    .dataframe thead th {\n",
       "        text-align: right;\n",
       "    }\n",
       "</style>\n",
       "<table border=\"1\" class=\"dataframe\">\n",
       "  <thead>\n",
       "    <tr style=\"text-align: right;\">\n",
       "      <th></th>\n",
       "      <th>Unnamed: 0</th>\n",
       "      <th>timestamp</th>\n",
       "      <th>sensor_00</th>\n",
       "      <th>sensor_01</th>\n",
       "      <th>sensor_02</th>\n",
       "      <th>sensor_03</th>\n",
       "      <th>sensor_04</th>\n",
       "      <th>sensor_05</th>\n",
       "      <th>sensor_06</th>\n",
       "      <th>sensor_07</th>\n",
       "      <th>...</th>\n",
       "      <th>sensor_43</th>\n",
       "      <th>sensor_44</th>\n",
       "      <th>sensor_45</th>\n",
       "      <th>sensor_46</th>\n",
       "      <th>sensor_47</th>\n",
       "      <th>sensor_48</th>\n",
       "      <th>sensor_49</th>\n",
       "      <th>sensor_50</th>\n",
       "      <th>sensor_51</th>\n",
       "      <th>machine_status</th>\n",
       "    </tr>\n",
       "  </thead>\n",
       "  <tbody>\n",
       "    <tr>\n",
       "      <th>0</th>\n",
       "      <td>0</td>\n",
       "      <td>2018-04-01 00:00:00</td>\n",
       "      <td>2.465394</td>\n",
       "      <td>47.09201</td>\n",
       "      <td>53.211800</td>\n",
       "      <td>46.310760</td>\n",
       "      <td>634.375000</td>\n",
       "      <td>76.45975</td>\n",
       "      <td>13.41146</td>\n",
       "      <td>16.13136</td>\n",
       "      <td>...</td>\n",
       "      <td>41.92708</td>\n",
       "      <td>39.641200</td>\n",
       "      <td>65.68287</td>\n",
       "      <td>50.92593</td>\n",
       "      <td>38.194440</td>\n",
       "      <td>157.9861</td>\n",
       "      <td>67.70834</td>\n",
       "      <td>243.0556</td>\n",
       "      <td>201.3889</td>\n",
       "      <td>NORMAL</td>\n",
       "    </tr>\n",
       "    <tr>\n",
       "      <th>1</th>\n",
       "      <td>1</td>\n",
       "      <td>2018-04-01 00:01:00</td>\n",
       "      <td>2.465394</td>\n",
       "      <td>47.09201</td>\n",
       "      <td>53.211800</td>\n",
       "      <td>46.310760</td>\n",
       "      <td>634.375000</td>\n",
       "      <td>76.45975</td>\n",
       "      <td>13.41146</td>\n",
       "      <td>16.13136</td>\n",
       "      <td>...</td>\n",
       "      <td>41.92708</td>\n",
       "      <td>39.641200</td>\n",
       "      <td>65.68287</td>\n",
       "      <td>50.92593</td>\n",
       "      <td>38.194440</td>\n",
       "      <td>157.9861</td>\n",
       "      <td>67.70834</td>\n",
       "      <td>243.0556</td>\n",
       "      <td>201.3889</td>\n",
       "      <td>NORMAL</td>\n",
       "    </tr>\n",
       "    <tr>\n",
       "      <th>2</th>\n",
       "      <td>2</td>\n",
       "      <td>2018-04-01 00:02:00</td>\n",
       "      <td>2.444734</td>\n",
       "      <td>47.35243</td>\n",
       "      <td>53.211800</td>\n",
       "      <td>46.397570</td>\n",
       "      <td>638.888900</td>\n",
       "      <td>73.54598</td>\n",
       "      <td>13.32465</td>\n",
       "      <td>16.03733</td>\n",
       "      <td>...</td>\n",
       "      <td>41.66666</td>\n",
       "      <td>39.351852</td>\n",
       "      <td>65.39352</td>\n",
       "      <td>51.21528</td>\n",
       "      <td>38.194443</td>\n",
       "      <td>155.9606</td>\n",
       "      <td>67.12963</td>\n",
       "      <td>241.3194</td>\n",
       "      <td>203.7037</td>\n",
       "      <td>NORMAL</td>\n",
       "    </tr>\n",
       "    <tr>\n",
       "      <th>3</th>\n",
       "      <td>3</td>\n",
       "      <td>2018-04-01 00:03:00</td>\n",
       "      <td>2.460474</td>\n",
       "      <td>47.09201</td>\n",
       "      <td>53.168400</td>\n",
       "      <td>46.397568</td>\n",
       "      <td>628.125000</td>\n",
       "      <td>76.98898</td>\n",
       "      <td>13.31742</td>\n",
       "      <td>16.24711</td>\n",
       "      <td>...</td>\n",
       "      <td>40.88541</td>\n",
       "      <td>39.062500</td>\n",
       "      <td>64.81481</td>\n",
       "      <td>51.21528</td>\n",
       "      <td>38.194440</td>\n",
       "      <td>155.9606</td>\n",
       "      <td>66.84028</td>\n",
       "      <td>240.4514</td>\n",
       "      <td>203.1250</td>\n",
       "      <td>NORMAL</td>\n",
       "    </tr>\n",
       "    <tr>\n",
       "      <th>4</th>\n",
       "      <td>4</td>\n",
       "      <td>2018-04-01 00:04:00</td>\n",
       "      <td>2.445718</td>\n",
       "      <td>47.13541</td>\n",
       "      <td>53.211800</td>\n",
       "      <td>46.397568</td>\n",
       "      <td>636.458300</td>\n",
       "      <td>76.58897</td>\n",
       "      <td>13.35359</td>\n",
       "      <td>16.21094</td>\n",
       "      <td>...</td>\n",
       "      <td>41.40625</td>\n",
       "      <td>38.773150</td>\n",
       "      <td>65.10416</td>\n",
       "      <td>51.79398</td>\n",
       "      <td>38.773150</td>\n",
       "      <td>158.2755</td>\n",
       "      <td>66.55093</td>\n",
       "      <td>242.1875</td>\n",
       "      <td>201.3889</td>\n",
       "      <td>NORMAL</td>\n",
       "    </tr>\n",
       "    <tr>\n",
       "      <th>...</th>\n",
       "      <td>...</td>\n",
       "      <td>...</td>\n",
       "      <td>...</td>\n",
       "      <td>...</td>\n",
       "      <td>...</td>\n",
       "      <td>...</td>\n",
       "      <td>...</td>\n",
       "      <td>...</td>\n",
       "      <td>...</td>\n",
       "      <td>...</td>\n",
       "      <td>...</td>\n",
       "      <td>...</td>\n",
       "      <td>...</td>\n",
       "      <td>...</td>\n",
       "      <td>...</td>\n",
       "      <td>...</td>\n",
       "      <td>...</td>\n",
       "      <td>...</td>\n",
       "      <td>...</td>\n",
       "      <td>...</td>\n",
       "      <td>...</td>\n",
       "    </tr>\n",
       "    <tr>\n",
       "      <th>220315</th>\n",
       "      <td>220315</td>\n",
       "      <td>2018-08-31 23:55:00</td>\n",
       "      <td>2.407350</td>\n",
       "      <td>47.69965</td>\n",
       "      <td>50.520830</td>\n",
       "      <td>43.142361</td>\n",
       "      <td>634.722229</td>\n",
       "      <td>64.59095</td>\n",
       "      <td>15.11863</td>\n",
       "      <td>16.65220</td>\n",
       "      <td>...</td>\n",
       "      <td>38.28125</td>\n",
       "      <td>68.287030</td>\n",
       "      <td>52.37268</td>\n",
       "      <td>48.32176</td>\n",
       "      <td>41.087960</td>\n",
       "      <td>212.3843</td>\n",
       "      <td>153.64580</td>\n",
       "      <td>NaN</td>\n",
       "      <td>231.1921</td>\n",
       "      <td>NORMAL</td>\n",
       "    </tr>\n",
       "    <tr>\n",
       "      <th>220316</th>\n",
       "      <td>220316</td>\n",
       "      <td>2018-08-31 23:56:00</td>\n",
       "      <td>2.400463</td>\n",
       "      <td>47.69965</td>\n",
       "      <td>50.564240</td>\n",
       "      <td>43.142361</td>\n",
       "      <td>630.902771</td>\n",
       "      <td>65.83363</td>\n",
       "      <td>15.15480</td>\n",
       "      <td>16.70284</td>\n",
       "      <td>...</td>\n",
       "      <td>38.28125</td>\n",
       "      <td>66.840280</td>\n",
       "      <td>50.63657</td>\n",
       "      <td>48.03241</td>\n",
       "      <td>40.798610</td>\n",
       "      <td>213.8310</td>\n",
       "      <td>156.25000</td>\n",
       "      <td>NaN</td>\n",
       "      <td>231.1921</td>\n",
       "      <td>NORMAL</td>\n",
       "    </tr>\n",
       "    <tr>\n",
       "      <th>220317</th>\n",
       "      <td>220317</td>\n",
       "      <td>2018-08-31 23:57:00</td>\n",
       "      <td>2.396528</td>\n",
       "      <td>47.69965</td>\n",
       "      <td>50.520830</td>\n",
       "      <td>43.142361</td>\n",
       "      <td>625.925903</td>\n",
       "      <td>67.29445</td>\n",
       "      <td>15.08970</td>\n",
       "      <td>16.70284</td>\n",
       "      <td>...</td>\n",
       "      <td>39.06250</td>\n",
       "      <td>65.393520</td>\n",
       "      <td>48.90046</td>\n",
       "      <td>48.03241</td>\n",
       "      <td>40.798610</td>\n",
       "      <td>217.3032</td>\n",
       "      <td>155.38190</td>\n",
       "      <td>NaN</td>\n",
       "      <td>232.0602</td>\n",
       "      <td>NORMAL</td>\n",
       "    </tr>\n",
       "    <tr>\n",
       "      <th>220318</th>\n",
       "      <td>220318</td>\n",
       "      <td>2018-08-31 23:58:00</td>\n",
       "      <td>2.406366</td>\n",
       "      <td>47.69965</td>\n",
       "      <td>50.520832</td>\n",
       "      <td>43.142361</td>\n",
       "      <td>635.648100</td>\n",
       "      <td>65.09175</td>\n",
       "      <td>15.11863</td>\n",
       "      <td>16.56539</td>\n",
       "      <td>...</td>\n",
       "      <td>40.62500</td>\n",
       "      <td>64.236110</td>\n",
       "      <td>47.74306</td>\n",
       "      <td>48.32176</td>\n",
       "      <td>40.509258</td>\n",
       "      <td>222.5116</td>\n",
       "      <td>153.93520</td>\n",
       "      <td>NaN</td>\n",
       "      <td>234.0856</td>\n",
       "      <td>NORMAL</td>\n",
       "    </tr>\n",
       "    <tr>\n",
       "      <th>220319</th>\n",
       "      <td>220319</td>\n",
       "      <td>2018-08-31 23:59:00</td>\n",
       "      <td>2.396528</td>\n",
       "      <td>47.69965</td>\n",
       "      <td>50.520832</td>\n",
       "      <td>43.142361</td>\n",
       "      <td>639.814800</td>\n",
       "      <td>65.45634</td>\n",
       "      <td>15.11863</td>\n",
       "      <td>16.65220</td>\n",
       "      <td>...</td>\n",
       "      <td>41.40625</td>\n",
       "      <td>62.789350</td>\n",
       "      <td>46.29630</td>\n",
       "      <td>48.90046</td>\n",
       "      <td>40.219910</td>\n",
       "      <td>227.4306</td>\n",
       "      <td>150.46300</td>\n",
       "      <td>NaN</td>\n",
       "      <td>234.0856</td>\n",
       "      <td>NORMAL</td>\n",
       "    </tr>\n",
       "  </tbody>\n",
       "</table>\n",
       "<p>220320 rows × 55 columns</p>\n",
       "</div>"
      ],
      "text/plain": [
       "        Unnamed: 0            timestamp  sensor_00  sensor_01  sensor_02  \\\n",
       "0                0  2018-04-01 00:00:00   2.465394   47.09201  53.211800   \n",
       "1                1  2018-04-01 00:01:00   2.465394   47.09201  53.211800   \n",
       "2                2  2018-04-01 00:02:00   2.444734   47.35243  53.211800   \n",
       "3                3  2018-04-01 00:03:00   2.460474   47.09201  53.168400   \n",
       "4                4  2018-04-01 00:04:00   2.445718   47.13541  53.211800   \n",
       "...            ...                  ...        ...        ...        ...   \n",
       "220315      220315  2018-08-31 23:55:00   2.407350   47.69965  50.520830   \n",
       "220316      220316  2018-08-31 23:56:00   2.400463   47.69965  50.564240   \n",
       "220317      220317  2018-08-31 23:57:00   2.396528   47.69965  50.520830   \n",
       "220318      220318  2018-08-31 23:58:00   2.406366   47.69965  50.520832   \n",
       "220319      220319  2018-08-31 23:59:00   2.396528   47.69965  50.520832   \n",
       "\n",
       "        sensor_03   sensor_04  sensor_05  sensor_06  sensor_07  ...  \\\n",
       "0       46.310760  634.375000   76.45975   13.41146   16.13136  ...   \n",
       "1       46.310760  634.375000   76.45975   13.41146   16.13136  ...   \n",
       "2       46.397570  638.888900   73.54598   13.32465   16.03733  ...   \n",
       "3       46.397568  628.125000   76.98898   13.31742   16.24711  ...   \n",
       "4       46.397568  636.458300   76.58897   13.35359   16.21094  ...   \n",
       "...           ...         ...        ...        ...        ...  ...   \n",
       "220315  43.142361  634.722229   64.59095   15.11863   16.65220  ...   \n",
       "220316  43.142361  630.902771   65.83363   15.15480   16.70284  ...   \n",
       "220317  43.142361  625.925903   67.29445   15.08970   16.70284  ...   \n",
       "220318  43.142361  635.648100   65.09175   15.11863   16.56539  ...   \n",
       "220319  43.142361  639.814800   65.45634   15.11863   16.65220  ...   \n",
       "\n",
       "        sensor_43  sensor_44  sensor_45  sensor_46  sensor_47  sensor_48  \\\n",
       "0        41.92708  39.641200   65.68287   50.92593  38.194440   157.9861   \n",
       "1        41.92708  39.641200   65.68287   50.92593  38.194440   157.9861   \n",
       "2        41.66666  39.351852   65.39352   51.21528  38.194443   155.9606   \n",
       "3        40.88541  39.062500   64.81481   51.21528  38.194440   155.9606   \n",
       "4        41.40625  38.773150   65.10416   51.79398  38.773150   158.2755   \n",
       "...           ...        ...        ...        ...        ...        ...   \n",
       "220315   38.28125  68.287030   52.37268   48.32176  41.087960   212.3843   \n",
       "220316   38.28125  66.840280   50.63657   48.03241  40.798610   213.8310   \n",
       "220317   39.06250  65.393520   48.90046   48.03241  40.798610   217.3032   \n",
       "220318   40.62500  64.236110   47.74306   48.32176  40.509258   222.5116   \n",
       "220319   41.40625  62.789350   46.29630   48.90046  40.219910   227.4306   \n",
       "\n",
       "        sensor_49  sensor_50  sensor_51  machine_status  \n",
       "0        67.70834   243.0556   201.3889          NORMAL  \n",
       "1        67.70834   243.0556   201.3889          NORMAL  \n",
       "2        67.12963   241.3194   203.7037          NORMAL  \n",
       "3        66.84028   240.4514   203.1250          NORMAL  \n",
       "4        66.55093   242.1875   201.3889          NORMAL  \n",
       "...           ...        ...        ...             ...  \n",
       "220315  153.64580        NaN   231.1921          NORMAL  \n",
       "220316  156.25000        NaN   231.1921          NORMAL  \n",
       "220317  155.38190        NaN   232.0602          NORMAL  \n",
       "220318  153.93520        NaN   234.0856          NORMAL  \n",
       "220319  150.46300        NaN   234.0856          NORMAL  \n",
       "\n",
       "[220320 rows x 55 columns]"
      ]
     },
     "execution_count": 14,
     "metadata": {},
     "output_type": "execute_result"
    }
   ],
   "source": [
    "df=pd.read_csv(\"./sensor.csv\")\n",
    "df"
   ]
  },
  {
   "cell_type": "code",
   "execution_count": 15,
   "id": "5d96de36",
   "metadata": {
    "scrolled": true
   },
   "outputs": [
    {
     "data": {
      "text/html": [
       "<div>\n",
       "<style scoped>\n",
       "    .dataframe tbody tr th:only-of-type {\n",
       "        vertical-align: middle;\n",
       "    }\n",
       "\n",
       "    .dataframe tbody tr th {\n",
       "        vertical-align: top;\n",
       "    }\n",
       "\n",
       "    .dataframe thead th {\n",
       "        text-align: right;\n",
       "    }\n",
       "</style>\n",
       "<table border=\"1\" class=\"dataframe\">\n",
       "  <thead>\n",
       "    <tr style=\"text-align: right;\">\n",
       "      <th></th>\n",
       "      <th>Timestamp</th>\n",
       "      <th>Unnamed: 0</th>\n",
       "      <th>sensor_00</th>\n",
       "      <th>sensor_01</th>\n",
       "      <th>sensor_02</th>\n",
       "      <th>sensor_03</th>\n",
       "      <th>sensor_04</th>\n",
       "      <th>sensor_05</th>\n",
       "      <th>sensor_06</th>\n",
       "      <th>sensor_07</th>\n",
       "      <th>...</th>\n",
       "      <th>sensor_42</th>\n",
       "      <th>sensor_43</th>\n",
       "      <th>sensor_44</th>\n",
       "      <th>sensor_45</th>\n",
       "      <th>sensor_46</th>\n",
       "      <th>sensor_47</th>\n",
       "      <th>sensor_48</th>\n",
       "      <th>sensor_49</th>\n",
       "      <th>sensor_50</th>\n",
       "      <th>sensor_51</th>\n",
       "    </tr>\n",
       "  </thead>\n",
       "  <tbody>\n",
       "    <tr>\n",
       "      <th>0</th>\n",
       "      <td>2018-04-01</td>\n",
       "      <td>719.5</td>\n",
       "      <td>2.454139</td>\n",
       "      <td>47.318882</td>\n",
       "      <td>52.567363</td>\n",
       "      <td>45.273315</td>\n",
       "      <td>634.166035</td>\n",
       "      <td>74.516172</td>\n",
       "      <td>13.348212</td>\n",
       "      <td>16.161459</td>\n",
       "      <td>...</td>\n",
       "      <td>32.626770</td>\n",
       "      <td>40.682243</td>\n",
       "      <td>50.859817</td>\n",
       "      <td>51.617557</td>\n",
       "      <td>45.070015</td>\n",
       "      <td>39.786884</td>\n",
       "      <td>197.029723</td>\n",
       "      <td>92.171022</td>\n",
       "      <td>241.056817</td>\n",
       "      <td>217.054678</td>\n",
       "    </tr>\n",
       "    <tr>\n",
       "      <th>1</th>\n",
       "      <td>2018-04-02</td>\n",
       "      <td>2159.5</td>\n",
       "      <td>2.429367</td>\n",
       "      <td>48.595226</td>\n",
       "      <td>52.199163</td>\n",
       "      <td>44.094026</td>\n",
       "      <td>635.990899</td>\n",
       "      <td>77.960694</td>\n",
       "      <td>13.340421</td>\n",
       "      <td>16.161022</td>\n",
       "      <td>...</td>\n",
       "      <td>33.555409</td>\n",
       "      <td>43.272566</td>\n",
       "      <td>46.112437</td>\n",
       "      <td>66.206316</td>\n",
       "      <td>53.731031</td>\n",
       "      <td>40.172284</td>\n",
       "      <td>203.099479</td>\n",
       "      <td>73.322964</td>\n",
       "      <td>243.407801</td>\n",
       "      <td>205.087368</td>\n",
       "    </tr>\n",
       "    <tr>\n",
       "      <th>2</th>\n",
       "      <td>2018-04-03</td>\n",
       "      <td>3599.5</td>\n",
       "      <td>2.435093</td>\n",
       "      <td>49.266702</td>\n",
       "      <td>52.060062</td>\n",
       "      <td>44.336599</td>\n",
       "      <td>640.359938</td>\n",
       "      <td>76.903797</td>\n",
       "      <td>13.452223</td>\n",
       "      <td>16.301238</td>\n",
       "      <td>...</td>\n",
       "      <td>34.660190</td>\n",
       "      <td>42.534900</td>\n",
       "      <td>44.204121</td>\n",
       "      <td>47.936961</td>\n",
       "      <td>42.168222</td>\n",
       "      <td>40.946113</td>\n",
       "      <td>157.432927</td>\n",
       "      <td>64.259821</td>\n",
       "      <td>201.386879</td>\n",
       "      <td>201.646492</td>\n",
       "    </tr>\n",
       "    <tr>\n",
       "      <th>3</th>\n",
       "      <td>2018-04-04</td>\n",
       "      <td>5039.5</td>\n",
       "      <td>2.452493</td>\n",
       "      <td>50.429565</td>\n",
       "      <td>51.959000</td>\n",
       "      <td>45.096479</td>\n",
       "      <td>640.173640</td>\n",
       "      <td>75.858830</td>\n",
       "      <td>13.512238</td>\n",
       "      <td>16.511281</td>\n",
       "      <td>...</td>\n",
       "      <td>34.545354</td>\n",
       "      <td>43.123188</td>\n",
       "      <td>42.631220</td>\n",
       "      <td>45.638222</td>\n",
       "      <td>43.511485</td>\n",
       "      <td>40.603311</td>\n",
       "      <td>154.669415</td>\n",
       "      <td>67.019917</td>\n",
       "      <td>213.312395</td>\n",
       "      <td>204.283411</td>\n",
       "    </tr>\n",
       "    <tr>\n",
       "      <th>4</th>\n",
       "      <td>2018-04-05</td>\n",
       "      <td>6479.5</td>\n",
       "      <td>2.454101</td>\n",
       "      <td>49.353086</td>\n",
       "      <td>52.096564</td>\n",
       "      <td>43.982806</td>\n",
       "      <td>636.350491</td>\n",
       "      <td>76.824878</td>\n",
       "      <td>13.425036</td>\n",
       "      <td>16.227121</td>\n",
       "      <td>...</td>\n",
       "      <td>33.312353</td>\n",
       "      <td>42.356406</td>\n",
       "      <td>45.254630</td>\n",
       "      <td>46.999582</td>\n",
       "      <td>44.231047</td>\n",
       "      <td>39.532897</td>\n",
       "      <td>213.241463</td>\n",
       "      <td>82.239020</td>\n",
       "      <td>240.274159</td>\n",
       "      <td>234.841377</td>\n",
       "    </tr>\n",
       "    <tr>\n",
       "      <th>...</th>\n",
       "      <td>...</td>\n",
       "      <td>...</td>\n",
       "      <td>...</td>\n",
       "      <td>...</td>\n",
       "      <td>...</td>\n",
       "      <td>...</td>\n",
       "      <td>...</td>\n",
       "      <td>...</td>\n",
       "      <td>...</td>\n",
       "      <td>...</td>\n",
       "      <td>...</td>\n",
       "      <td>...</td>\n",
       "      <td>...</td>\n",
       "      <td>...</td>\n",
       "      <td>...</td>\n",
       "      <td>...</td>\n",
       "      <td>...</td>\n",
       "      <td>...</td>\n",
       "      <td>...</td>\n",
       "      <td>...</td>\n",
       "      <td>...</td>\n",
       "    </tr>\n",
       "    <tr>\n",
       "      <th>148</th>\n",
       "      <td>2018-08-27</td>\n",
       "      <td>213839.5</td>\n",
       "      <td>2.397325</td>\n",
       "      <td>49.077267</td>\n",
       "      <td>50.995007</td>\n",
       "      <td>44.272972</td>\n",
       "      <td>629.476285</td>\n",
       "      <td>75.191813</td>\n",
       "      <td>14.732405</td>\n",
       "      <td>16.555016</td>\n",
       "      <td>...</td>\n",
       "      <td>31.871201</td>\n",
       "      <td>44.036998</td>\n",
       "      <td>45.100107</td>\n",
       "      <td>45.915163</td>\n",
       "      <td>54.741151</td>\n",
       "      <td>41.868824</td>\n",
       "      <td>265.343482</td>\n",
       "      <td>75.546955</td>\n",
       "      <td>NaN</td>\n",
       "      <td>215.756213</td>\n",
       "    </tr>\n",
       "    <tr>\n",
       "      <th>149</th>\n",
       "      <td>2018-08-28</td>\n",
       "      <td>215279.5</td>\n",
       "      <td>2.484509</td>\n",
       "      <td>48.750963</td>\n",
       "      <td>50.825465</td>\n",
       "      <td>44.272459</td>\n",
       "      <td>631.976319</td>\n",
       "      <td>72.276470</td>\n",
       "      <td>15.060769</td>\n",
       "      <td>16.604658</td>\n",
       "      <td>...</td>\n",
       "      <td>31.891636</td>\n",
       "      <td>43.499707</td>\n",
       "      <td>46.501254</td>\n",
       "      <td>60.823367</td>\n",
       "      <td>61.883520</td>\n",
       "      <td>42.537334</td>\n",
       "      <td>282.142366</td>\n",
       "      <td>72.129388</td>\n",
       "      <td>NaN</td>\n",
       "      <td>217.672568</td>\n",
       "    </tr>\n",
       "    <tr>\n",
       "      <th>150</th>\n",
       "      <td>2018-08-29</td>\n",
       "      <td>216719.5</td>\n",
       "      <td>2.462678</td>\n",
       "      <td>48.388881</td>\n",
       "      <td>51.325923</td>\n",
       "      <td>44.761404</td>\n",
       "      <td>629.564036</td>\n",
       "      <td>76.858206</td>\n",
       "      <td>15.095380</td>\n",
       "      <td>16.576662</td>\n",
       "      <td>...</td>\n",
       "      <td>32.484627</td>\n",
       "      <td>43.391200</td>\n",
       "      <td>51.786748</td>\n",
       "      <td>65.166860</td>\n",
       "      <td>61.894571</td>\n",
       "      <td>42.187888</td>\n",
       "      <td>313.535835</td>\n",
       "      <td>87.895648</td>\n",
       "      <td>NaN</td>\n",
       "      <td>217.231304</td>\n",
       "    </tr>\n",
       "    <tr>\n",
       "      <th>151</th>\n",
       "      <td>2018-08-30</td>\n",
       "      <td>218159.5</td>\n",
       "      <td>2.440611</td>\n",
       "      <td>49.141889</td>\n",
       "      <td>51.904927</td>\n",
       "      <td>45.522188</td>\n",
       "      <td>628.580324</td>\n",
       "      <td>73.744396</td>\n",
       "      <td>15.075095</td>\n",
       "      <td>16.537262</td>\n",
       "      <td>...</td>\n",
       "      <td>33.278354</td>\n",
       "      <td>42.855538</td>\n",
       "      <td>57.698969</td>\n",
       "      <td>55.559976</td>\n",
       "      <td>56.916112</td>\n",
       "      <td>45.339225</td>\n",
       "      <td>280.001366</td>\n",
       "      <td>95.470236</td>\n",
       "      <td>NaN</td>\n",
       "      <td>221.649949</td>\n",
       "    </tr>\n",
       "    <tr>\n",
       "      <th>152</th>\n",
       "      <td>2018-08-31</td>\n",
       "      <td>219599.5</td>\n",
       "      <td>2.405018</td>\n",
       "      <td>49.936510</td>\n",
       "      <td>51.586721</td>\n",
       "      <td>44.554022</td>\n",
       "      <td>630.861161</td>\n",
       "      <td>72.276348</td>\n",
       "      <td>15.068712</td>\n",
       "      <td>16.761316</td>\n",
       "      <td>...</td>\n",
       "      <td>33.327713</td>\n",
       "      <td>42.258174</td>\n",
       "      <td>68.413490</td>\n",
       "      <td>59.472377</td>\n",
       "      <td>57.594509</td>\n",
       "      <td>45.046667</td>\n",
       "      <td>283.238814</td>\n",
       "      <td>119.338611</td>\n",
       "      <td>NaN</td>\n",
       "      <td>227.588420</td>\n",
       "    </tr>\n",
       "  </tbody>\n",
       "</table>\n",
       "<p>153 rows × 54 columns</p>\n",
       "</div>"
      ],
      "text/plain": [
       "     Timestamp  Unnamed: 0  sensor_00  sensor_01  sensor_02  sensor_03  \\\n",
       "0   2018-04-01       719.5   2.454139  47.318882  52.567363  45.273315   \n",
       "1   2018-04-02      2159.5   2.429367  48.595226  52.199163  44.094026   \n",
       "2   2018-04-03      3599.5   2.435093  49.266702  52.060062  44.336599   \n",
       "3   2018-04-04      5039.5   2.452493  50.429565  51.959000  45.096479   \n",
       "4   2018-04-05      6479.5   2.454101  49.353086  52.096564  43.982806   \n",
       "..         ...         ...        ...        ...        ...        ...   \n",
       "148 2018-08-27    213839.5   2.397325  49.077267  50.995007  44.272972   \n",
       "149 2018-08-28    215279.5   2.484509  48.750963  50.825465  44.272459   \n",
       "150 2018-08-29    216719.5   2.462678  48.388881  51.325923  44.761404   \n",
       "151 2018-08-30    218159.5   2.440611  49.141889  51.904927  45.522188   \n",
       "152 2018-08-31    219599.5   2.405018  49.936510  51.586721  44.554022   \n",
       "\n",
       "      sensor_04  sensor_05  sensor_06  sensor_07  ...  sensor_42  sensor_43  \\\n",
       "0    634.166035  74.516172  13.348212  16.161459  ...  32.626770  40.682243   \n",
       "1    635.990899  77.960694  13.340421  16.161022  ...  33.555409  43.272566   \n",
       "2    640.359938  76.903797  13.452223  16.301238  ...  34.660190  42.534900   \n",
       "3    640.173640  75.858830  13.512238  16.511281  ...  34.545354  43.123188   \n",
       "4    636.350491  76.824878  13.425036  16.227121  ...  33.312353  42.356406   \n",
       "..          ...        ...        ...        ...  ...        ...        ...   \n",
       "148  629.476285  75.191813  14.732405  16.555016  ...  31.871201  44.036998   \n",
       "149  631.976319  72.276470  15.060769  16.604658  ...  31.891636  43.499707   \n",
       "150  629.564036  76.858206  15.095380  16.576662  ...  32.484627  43.391200   \n",
       "151  628.580324  73.744396  15.075095  16.537262  ...  33.278354  42.855538   \n",
       "152  630.861161  72.276348  15.068712  16.761316  ...  33.327713  42.258174   \n",
       "\n",
       "     sensor_44  sensor_45  sensor_46  sensor_47   sensor_48   sensor_49  \\\n",
       "0    50.859817  51.617557  45.070015  39.786884  197.029723   92.171022   \n",
       "1    46.112437  66.206316  53.731031  40.172284  203.099479   73.322964   \n",
       "2    44.204121  47.936961  42.168222  40.946113  157.432927   64.259821   \n",
       "3    42.631220  45.638222  43.511485  40.603311  154.669415   67.019917   \n",
       "4    45.254630  46.999582  44.231047  39.532897  213.241463   82.239020   \n",
       "..         ...        ...        ...        ...         ...         ...   \n",
       "148  45.100107  45.915163  54.741151  41.868824  265.343482   75.546955   \n",
       "149  46.501254  60.823367  61.883520  42.537334  282.142366   72.129388   \n",
       "150  51.786748  65.166860  61.894571  42.187888  313.535835   87.895648   \n",
       "151  57.698969  55.559976  56.916112  45.339225  280.001366   95.470236   \n",
       "152  68.413490  59.472377  57.594509  45.046667  283.238814  119.338611   \n",
       "\n",
       "      sensor_50   sensor_51  \n",
       "0    241.056817  217.054678  \n",
       "1    243.407801  205.087368  \n",
       "2    201.386879  201.646492  \n",
       "3    213.312395  204.283411  \n",
       "4    240.274159  234.841377  \n",
       "..          ...         ...  \n",
       "148         NaN  215.756213  \n",
       "149         NaN  217.672568  \n",
       "150         NaN  217.231304  \n",
       "151         NaN  221.649949  \n",
       "152         NaN  227.588420  \n",
       "\n",
       "[153 rows x 54 columns]"
      ]
     },
     "execution_count": 15,
     "metadata": {},
     "output_type": "execute_result"
    }
   ],
   "source": [
    "df[\"Timestamp\"] = pd.to_datetime(df[\"timestamp\"])\n",
    "df_gb = df.groupby(pd.Grouper(key=\"Timestamp\", axis=0, freq=\"D\")).mean()\n",
    "df_gb.reset_index(inplace=True)\n",
    "df_gb"
   ]
  },
  {
   "cell_type": "code",
   "execution_count": 16,
   "id": "1bd575cf",
   "metadata": {},
   "outputs": [
    {
     "data": {
      "text/plain": [
       "1440.0"
      ]
     },
     "execution_count": 16,
     "metadata": {},
     "output_type": "execute_result"
    }
   ],
   "source": [
    "len(df)/len(df_gb)"
   ]
  },
  {
   "cell_type": "code",
   "execution_count": 29,
   "id": "83ce3bdf",
   "metadata": {
    "scrolled": true
   },
   "outputs": [
    {
     "data": {
      "text/plain": [
       "<function matplotlib.pyplot.show(close=None, block=None)>"
      ]
     },
     "execution_count": 29,
     "metadata": {},
     "output_type": "execute_result"
    },
    {
     "data": {
      "image/png": "[encoded data removed]",
      "text/plain": [
       "<Figure size 432x288 with 1 Axes>"
      ]
     },
     "metadata": {
      "needs_background": "light"
     },
     "output_type": "display_data"
    }
   ],
   "source": [
    "sns.lineplot(x=\"Timestamp\", y=\"sensor_08\", data=df_gb)\n",
    "plt.show"
   ]
  },
  {
   "cell_type": "code",
   "execution_count": 18,
   "id": "a8aac829",
   "metadata": {},
   "outputs": [
    {
     "data": {
      "text/plain": [
       "<function matplotlib.pyplot.show(close=None, block=None)>"
      ]
     },
     "execution_count": 18,
     "metadata": {},
     "output_type": "execute_result"
    },
    {
     "data": {
      "image/png": "[encoded data removed]",
      "text/plain": [
       "<Figure size 432x288 with 1 Axes>"
      ]
     },
     "metadata": {
      "needs_background": "light"
     },
     "output_type": "display_data"
    }
   ],
   "source": [
    "sns.lineplot(x=\"Timestamp\", y=\"sensor_08\", data=df)\n",
    "plt.show"
   ]
  },
  {
   "cell_type": "code",
   "execution_count": 213,
   "id": "90bcb4c6",
   "metadata": {},
   "outputs": [
    {
     "data": {
      "text/plain": [
       "<function matplotlib.pyplot.show(close=None, block=None)>"
      ]
     },
     "execution_count": 213,
     "metadata": {},
     "output_type": "execute_result"
    },
    {
     "data": {
      "image/png": "[encoded data removed]",
      "text/plain": [
       "<Figure size 432x288 with 1 Axes>"
      ]
     },
     "metadata": {
      "needs_background": "light"
     },
     "output_type": "display_data"
    }
   ],
   "source": [
    "sns.lineplot(x=\"Timestamp\", y=\"sensor_51\", data=df)\n",
    "plt.show"
   ]
  },
  {
   "cell_type": "code",
   "execution_count": 214,
   "id": "14180cf4",
   "metadata": {},
   "outputs": [
    {
     "data": {
      "text/plain": [
       "<function matplotlib.pyplot.show(close=None, block=None)>"
      ]
     },
     "execution_count": 214,
     "metadata": {},
     "output_type": "execute_result"
    },
    {
     "data": {
      "image/png": "[encoded data removed]",
      "text/plain": [
       "<Figure size 432x288 with 1 Axes>"
      ]
     },
     "metadata": {
      "needs_background": "light"
     },
     "output_type": "display_data"
    }
   ],
   "source": [
    "sns.lineplot(x=\"Timestamp\", y=\"sensor_50\", data=df)\n",
    "plt.show"
   ]
  },
  {
   "cell_type": "code",
   "execution_count": null,
   "id": "f8807d0c",
   "metadata": {},
   "outputs": [],
   "source": []
  },
  {
   "cell_type": "code",
   "execution_count": null,
   "id": "8143a029",
   "metadata": {},
   "outputs": [],
   "source": []
  },
  {
   "cell_type": "code",
   "execution_count": null,
   "id": "eb748ee0",
   "metadata": {},
   "outputs": [],
   "source": []
  },
  {
   "cell_type": "code",
   "execution_count": null,
   "id": "4c4e4164",
   "metadata": {},
   "outputs": [],
   "source": []
  },
  {
   "cell_type": "code",
   "execution_count": 215,
   "id": "2a097188",
   "metadata": {},
   "outputs": [],
   "source": [
    "# lissage lowess"
   ]
  },
  {
   "cell_type": "code",
   "execution_count": 216,
   "id": "3c882e5b",
   "metadata": {},
   "outputs": [],
   "source": [
    "# sensor_01"
   ]
  },
  {
   "cell_type": "code",
   "execution_count": 217,
   "id": "bf804d1b",
   "metadata": {},
   "outputs": [],
   "source": [
    "# len(df_gb)"
   ]
  },
  {
   "cell_type": "code",
   "execution_count": 218,
   "id": "96a1b039",
   "metadata": {},
   "outputs": [],
   "source": []
  },
  {
   "cell_type": "code",
   "execution_count": 219,
   "id": "c0bbba71",
   "metadata": {},
   "outputs": [],
   "source": [
    "# df_gb"
   ]
  },
  {
   "cell_type": "code",
   "execution_count": 220,
   "id": "66afbeb7",
   "metadata": {},
   "outputs": [],
   "source": [
    "x=pd.to_numeric(df_gb.index)\n",
    "y=pd.to_numeric(df_gb.sensor_01)"
   ]
  },
  {
   "cell_type": "code",
   "execution_count": 221,
   "id": "9624e5b3",
   "metadata": {},
   "outputs": [],
   "source": [
    "# x"
   ]
  },
  {
   "cell_type": "code",
   "execution_count": 222,
   "id": "f697ecc2",
   "metadata": {},
   "outputs": [],
   "source": [
    "# y"
   ]
  },
  {
   "cell_type": "code",
   "execution_count": 223,
   "id": "4ff9185c",
   "metadata": {},
   "outputs": [],
   "source": [
    "result = lowess(y, x, frac=0.05, it=3, delta=0.0)"
   ]
  },
  {
   "cell_type": "code",
   "execution_count": 224,
   "id": "6840bb2d",
   "metadata": {},
   "outputs": [],
   "source": [
    "# result"
   ]
  },
  {
   "cell_type": "code",
   "execution_count": 225,
   "id": "ffbb6563",
   "metadata": {},
   "outputs": [],
   "source": [
    "ar2 =[]\n",
    "for i in range(len(result[0])):\n",
    "    b =[]\n",
    "    for j in range(len(result)):\n",
    "        b.append(result[j][i])\n",
    "    ar2.append(b)\n",
    "# print(ar2)"
   ]
  },
  {
   "cell_type": "code",
   "execution_count": 226,
   "id": "867dcc87",
   "metadata": {},
   "outputs": [
    {
     "data": {
      "text/plain": [
       "<function matplotlib.pyplot.show(close=None, block=None)>"
      ]
     },
     "execution_count": 226,
     "metadata": {},
     "output_type": "execute_result"
    },
    {
     "data": {
      "image/png": "[encoded data removed]",
      "text/plain": [
       "<Figure size 432x288 with 1 Axes>"
      ]
     },
     "metadata": {
      "needs_background": "light"
     },
     "output_type": "display_data"
    }
   ],
   "source": [
    "sns.lineplot(x=ar2[0], y=ar2[1])\n",
    "plt.show"
   ]
  },
  {
   "cell_type": "code",
   "execution_count": 227,
   "id": "a78e0848",
   "metadata": {},
   "outputs": [
    {
     "data": {
      "text/plain": [
       "153"
      ]
     },
     "execution_count": 227,
     "metadata": {},
     "output_type": "execute_result"
    }
   ],
   "source": [
    "len(ar2[1])"
   ]
  },
  {
   "cell_type": "code",
   "execution_count": null,
   "id": "c0c3c87e",
   "metadata": {},
   "outputs": [],
   "source": []
  },
  {
   "cell_type": "code",
   "execution_count": 228,
   "id": "e35321d9",
   "metadata": {},
   "outputs": [],
   "source": [
    "# sensor_08"
   ]
  },
  {
   "cell_type": "code",
   "execution_count": 242,
   "id": "069dfa0e",
   "metadata": {},
   "outputs": [
    {
     "data": {
      "text/plain": [
       "<function matplotlib.pyplot.show(close=None, block=None)>"
      ]
     },
     "execution_count": 242,
     "metadata": {},
     "output_type": "execute_result"
    },
    {
     "data": {
      "image/png": "[encoded data removed]",
      "text/plain": [
       "<Figure size 432x288 with 1 Axes>"
      ]
     },
     "metadata": {
      "needs_background": "light"
     },
     "output_type": "display_data"
    }
   ],
   "source": [
    "x=pd.to_numeric(df_gb.index)\n",
    "y=pd.to_numeric(df_gb.sensor_08)\n",
    "result = lowess(y, x, frac=0.05, it=3, delta=0.0)\n",
    "ar2 =[]\n",
    "for i in range(len(result[0])):\n",
    "    b =[]\n",
    "    for j in range(len(result)):\n",
    "        b.append(result[j][i])\n",
    "    ar2.append(b)\n",
    "sns.lineplot(x=ar2[0], y=ar2[1])\n",
    "plt.show"
   ]
  },
  {
   "cell_type": "code",
   "execution_count": null,
   "id": "4f915d39",
   "metadata": {},
   "outputs": [],
   "source": []
  },
  {
   "cell_type": "code",
   "execution_count": null,
   "id": "32b5c712",
   "metadata": {},
   "outputs": [],
   "source": []
  },
  {
   "cell_type": "code",
   "execution_count": null,
   "id": "e25e4701",
   "metadata": {},
   "outputs": [],
   "source": []
  },
  {
   "cell_type": "code",
   "execution_count": null,
   "id": "3bc1d33c",
   "metadata": {},
   "outputs": [],
   "source": []
  },
  {
   "cell_type": "code",
   "execution_count": null,
   "id": "5c7e3246",
   "metadata": {},
   "outputs": [],
   "source": []
  },
  {
   "cell_type": "code",
   "execution_count": null,
   "id": "d308aa45",
   "metadata": {},
   "outputs": [],
   "source": []
  },
  {
   "cell_type": "code",
   "execution_count": null,
   "id": "5e60f2e1",
   "metadata": {},
   "outputs": [],
   "source": []
  },
  {
   "cell_type": "code",
   "execution_count": null,
   "id": "0e22623f",
   "metadata": {},
   "outputs": [],
   "source": []
  },
  {
   "cell_type": "code",
   "execution_count": null,
   "id": "d910d326",
   "metadata": {},
   "outputs": [],
   "source": []
  },
  {
   "cell_type": "code",
   "execution_count": null,
   "id": "c3485c6d",
   "metadata": {},
   "outputs": [],
   "source": [
    "# sensor_51"
   ]
  },
  {
   "cell_type": "code",
   "execution_count": 30,
   "id": "a126a4a4",
   "metadata": {},
   "outputs": [],
   "source": [
    "df_gb_H = df.groupby(pd.Grouper(key=\"Timestamp\", axis=0, freq=\"H\")).mean()\n",
    "df_gb_H.reset_index(inplace=True)\n",
    "# df_gb_H"
   ]
  },
  {
   "cell_type": "code",
   "execution_count": 31,
   "id": "c4a07eb5",
   "metadata": {},
   "outputs": [
    {
     "data": {
      "text/html": [
       "<div>\n",
       "<style scoped>\n",
       "    .dataframe tbody tr th:only-of-type {\n",
       "        vertical-align: middle;\n",
       "    }\n",
       "\n",
       "    .dataframe tbody tr th {\n",
       "        vertical-align: top;\n",
       "    }\n",
       "\n",
       "    .dataframe thead th {\n",
       "        text-align: right;\n",
       "    }\n",
       "</style>\n",
       "<table border=\"1\" class=\"dataframe\">\n",
       "  <thead>\n",
       "    <tr style=\"text-align: right;\">\n",
       "      <th></th>\n",
       "      <th>Unnamed: 0</th>\n",
       "      <th>sensor_00</th>\n",
       "      <th>sensor_01</th>\n",
       "      <th>sensor_02</th>\n",
       "      <th>sensor_03</th>\n",
       "      <th>sensor_04</th>\n",
       "      <th>sensor_05</th>\n",
       "      <th>sensor_06</th>\n",
       "      <th>sensor_07</th>\n",
       "      <th>sensor_08</th>\n",
       "      <th>...</th>\n",
       "      <th>sensor_42</th>\n",
       "      <th>sensor_43</th>\n",
       "      <th>sensor_44</th>\n",
       "      <th>sensor_45</th>\n",
       "      <th>sensor_46</th>\n",
       "      <th>sensor_47</th>\n",
       "      <th>sensor_48</th>\n",
       "      <th>sensor_49</th>\n",
       "      <th>sensor_50</th>\n",
       "      <th>sensor_51</th>\n",
       "    </tr>\n",
       "    <tr>\n",
       "      <th>Timestamp</th>\n",
       "      <th></th>\n",
       "      <th></th>\n",
       "      <th></th>\n",
       "      <th></th>\n",
       "      <th></th>\n",
       "      <th></th>\n",
       "      <th></th>\n",
       "      <th></th>\n",
       "      <th></th>\n",
       "      <th></th>\n",
       "      <th></th>\n",
       "      <th></th>\n",
       "      <th></th>\n",
       "      <th></th>\n",
       "      <th></th>\n",
       "      <th></th>\n",
       "      <th></th>\n",
       "      <th></th>\n",
       "      <th></th>\n",
       "      <th></th>\n",
       "      <th></th>\n",
       "    </tr>\n",
       "  </thead>\n",
       "  <tbody>\n",
       "    <tr>\n",
       "      <th>2018-08-01 00:00:00</th>\n",
       "      <td>175709.5</td>\n",
       "      <td>2.453834</td>\n",
       "      <td>46.692708</td>\n",
       "      <td>51.064088</td>\n",
       "      <td>44.636139</td>\n",
       "      <td>638.389365</td>\n",
       "      <td>74.892339</td>\n",
       "      <td>14.497370</td>\n",
       "      <td>16.216603</td>\n",
       "      <td>15.666353</td>\n",
       "      <td>...</td>\n",
       "      <td>34.153643</td>\n",
       "      <td>51.115449</td>\n",
       "      <td>43.074846</td>\n",
       "      <td>38.821372</td>\n",
       "      <td>53.351658</td>\n",
       "      <td>49.406829</td>\n",
       "      <td>154.041272</td>\n",
       "      <td>52.228009</td>\n",
       "      <td>NaN</td>\n",
       "      <td>231.491122</td>\n",
       "    </tr>\n",
       "    <tr>\n",
       "      <th>2018-08-01 01:00:00</th>\n",
       "      <td>175769.5</td>\n",
       "      <td>2.453834</td>\n",
       "      <td>47.018227</td>\n",
       "      <td>51.090853</td>\n",
       "      <td>44.697626</td>\n",
       "      <td>636.514895</td>\n",
       "      <td>66.888325</td>\n",
       "      <td>14.439381</td>\n",
       "      <td>16.533083</td>\n",
       "      <td>15.930628</td>\n",
       "      <td>...</td>\n",
       "      <td>33.072915</td>\n",
       "      <td>49.257809</td>\n",
       "      <td>44.010416</td>\n",
       "      <td>61.998457</td>\n",
       "      <td>71.696565</td>\n",
       "      <td>46.479553</td>\n",
       "      <td>266.010807</td>\n",
       "      <td>70.081018</td>\n",
       "      <td>NaN</td>\n",
       "      <td>244.396212</td>\n",
       "    </tr>\n",
       "    <tr>\n",
       "      <th>2018-08-01 02:00:00</th>\n",
       "      <td>175829.5</td>\n",
       "      <td>2.454162</td>\n",
       "      <td>47.445022</td>\n",
       "      <td>50.773291</td>\n",
       "      <td>44.756218</td>\n",
       "      <td>637.010026</td>\n",
       "      <td>61.186508</td>\n",
       "      <td>14.614558</td>\n",
       "      <td>16.453631</td>\n",
       "      <td>15.735557</td>\n",
       "      <td>...</td>\n",
       "      <td>33.359373</td>\n",
       "      <td>45.134545</td>\n",
       "      <td>45.732060</td>\n",
       "      <td>41.931594</td>\n",
       "      <td>52.666860</td>\n",
       "      <td>47.694831</td>\n",
       "      <td>253.375770</td>\n",
       "      <td>69.391396</td>\n",
       "      <td>NaN</td>\n",
       "      <td>234.635415</td>\n",
       "    </tr>\n",
       "    <tr>\n",
       "      <th>2018-08-01 03:00:00</th>\n",
       "      <td>175889.5</td>\n",
       "      <td>2.454064</td>\n",
       "      <td>47.873986</td>\n",
       "      <td>50.074507</td>\n",
       "      <td>44.669414</td>\n",
       "      <td>637.332128</td>\n",
       "      <td>66.006200</td>\n",
       "      <td>14.604913</td>\n",
       "      <td>16.004170</td>\n",
       "      <td>15.674914</td>\n",
       "      <td>...</td>\n",
       "      <td>33.016490</td>\n",
       "      <td>44.266489</td>\n",
       "      <td>48.644869</td>\n",
       "      <td>38.213734</td>\n",
       "      <td>45.346568</td>\n",
       "      <td>39.385609</td>\n",
       "      <td>198.297645</td>\n",
       "      <td>60.455247</td>\n",
       "      <td>NaN</td>\n",
       "      <td>195.056905</td>\n",
       "    </tr>\n",
       "    <tr>\n",
       "      <th>2018-08-01 04:00:00</th>\n",
       "      <td>175949.5</td>\n",
       "      <td>2.454080</td>\n",
       "      <td>48.185763</td>\n",
       "      <td>49.834345</td>\n",
       "      <td>44.534142</td>\n",
       "      <td>636.939761</td>\n",
       "      <td>64.555687</td>\n",
       "      <td>14.616366</td>\n",
       "      <td>15.928216</td>\n",
       "      <td>15.673708</td>\n",
       "      <td>...</td>\n",
       "      <td>33.203122</td>\n",
       "      <td>43.480899</td>\n",
       "      <td>48.268711</td>\n",
       "      <td>44.309414</td>\n",
       "      <td>50.733025</td>\n",
       "      <td>39.631558</td>\n",
       "      <td>295.027967</td>\n",
       "      <td>58.887924</td>\n",
       "      <td>NaN</td>\n",
       "      <td>192.751732</td>\n",
       "    </tr>\n",
       "  </tbody>\n",
       "</table>\n",
       "<p>5 rows × 53 columns</p>\n",
       "</div>"
      ],
      "text/plain": [
       "                     Unnamed: 0  sensor_00  sensor_01  sensor_02  sensor_03  \\\n",
       "Timestamp                                                                     \n",
       "2018-08-01 00:00:00    175709.5   2.453834  46.692708  51.064088  44.636139   \n",
       "2018-08-01 01:00:00    175769.5   2.453834  47.018227  51.090853  44.697626   \n",
       "2018-08-01 02:00:00    175829.5   2.454162  47.445022  50.773291  44.756218   \n",
       "2018-08-01 03:00:00    175889.5   2.454064  47.873986  50.074507  44.669414   \n",
       "2018-08-01 04:00:00    175949.5   2.454080  48.185763  49.834345  44.534142   \n",
       "\n",
       "                      sensor_04  sensor_05  sensor_06  sensor_07  sensor_08  \\\n",
       "Timestamp                                                                     \n",
       "2018-08-01 00:00:00  638.389365  74.892339  14.497370  16.216603  15.666353   \n",
       "2018-08-01 01:00:00  636.514895  66.888325  14.439381  16.533083  15.930628   \n",
       "2018-08-01 02:00:00  637.010026  61.186508  14.614558  16.453631  15.735557   \n",
       "2018-08-01 03:00:00  637.332128  66.006200  14.604913  16.004170  15.674914   \n",
       "2018-08-01 04:00:00  636.939761  64.555687  14.616366  15.928216  15.673708   \n",
       "\n",
       "                     ...  sensor_42  sensor_43  sensor_44  sensor_45  \\\n",
       "Timestamp            ...                                               \n",
       "2018-08-01 00:00:00  ...  34.153643  51.115449  43.074846  38.821372   \n",
       "2018-08-01 01:00:00  ...  33.072915  49.257809  44.010416  61.998457   \n",
       "2018-08-01 02:00:00  ...  33.359373  45.134545  45.732060  41.931594   \n",
       "2018-08-01 03:00:00  ...  33.016490  44.266489  48.644869  38.213734   \n",
       "2018-08-01 04:00:00  ...  33.203122  43.480899  48.268711  44.309414   \n",
       "\n",
       "                     sensor_46  sensor_47   sensor_48  sensor_49  sensor_50  \\\n",
       "Timestamp                                                                     \n",
       "2018-08-01 00:00:00  53.351658  49.406829  154.041272  52.228009        NaN   \n",
       "2018-08-01 01:00:00  71.696565  46.479553  266.010807  70.081018        NaN   \n",
       "2018-08-01 02:00:00  52.666860  47.694831  253.375770  69.391396        NaN   \n",
       "2018-08-01 03:00:00  45.346568  39.385609  198.297645  60.455247        NaN   \n",
       "2018-08-01 04:00:00  50.733025  39.631558  295.027967  58.887924        NaN   \n",
       "\n",
       "                      sensor_51  \n",
       "Timestamp                        \n",
       "2018-08-01 00:00:00  231.491122  \n",
       "2018-08-01 01:00:00  244.396212  \n",
       "2018-08-01 02:00:00  234.635415  \n",
       "2018-08-01 03:00:00  195.056905  \n",
       "2018-08-01 04:00:00  192.751732  \n",
       "\n",
       "[5 rows x 53 columns]"
      ]
     },
     "execution_count": 31,
     "metadata": {},
     "output_type": "execute_result"
    }
   ],
   "source": [
    "df1 = df_gb_H.set_index(\"Timestamp\")\n",
    "df1.loc[\"2018-08\"].head()"
   ]
  },
  {
   "cell_type": "code",
   "execution_count": 33,
   "id": "803a68da",
   "metadata": {},
   "outputs": [
    {
     "data": {
      "text/plain": [
       "Timestamp\n",
       "2018-08-01 00:00:00    231.491122\n",
       "2018-08-01 01:00:00    244.396212\n",
       "2018-08-01 02:00:00    234.635415\n",
       "2018-08-01 03:00:00    195.056905\n",
       "2018-08-01 04:00:00    192.751732\n",
       "                          ...    \n",
       "2018-08-31 19:00:00    196.923230\n",
       "2018-08-31 20:00:00    243.214698\n",
       "2018-08-31 21:00:00    229.113615\n",
       "2018-08-31 22:00:00    203.496340\n",
       "2018-08-31 23:00:00    227.199068\n",
       "Name: sensor_51, Length: 744, dtype: float64"
      ]
     },
     "execution_count": 33,
     "metadata": {},
     "output_type": "execute_result"
    }
   ],
   "source": [
    "df11 = df1.loc[\"2018-08\"]\n",
    "trainData = df11[:][\"sensor_51\"]\n",
    "trainData"
   ]
  },
  {
   "cell_type": "code",
   "execution_count": 34,
   "id": "3e736ad8",
   "metadata": {},
   "outputs": [
    {
     "data": {
      "text/html": [
       "<div>\n",
       "<style scoped>\n",
       "    .dataframe tbody tr th:only-of-type {\n",
       "        vertical-align: middle;\n",
       "    }\n",
       "\n",
       "    .dataframe tbody tr th {\n",
       "        vertical-align: top;\n",
       "    }\n",
       "\n",
       "    .dataframe thead th {\n",
       "        text-align: right;\n",
       "    }\n",
       "</style>\n",
       "<table border=\"1\" class=\"dataframe\">\n",
       "  <thead>\n",
       "    <tr style=\"text-align: right;\">\n",
       "      <th></th>\n",
       "      <th>Timestamp</th>\n",
       "      <th>sensor_51</th>\n",
       "    </tr>\n",
       "  </thead>\n",
       "  <tbody>\n",
       "    <tr>\n",
       "      <th>0</th>\n",
       "      <td>2018-08-01 00:00:00</td>\n",
       "      <td>231.491122</td>\n",
       "    </tr>\n",
       "    <tr>\n",
       "      <th>1</th>\n",
       "      <td>2018-08-01 01:00:00</td>\n",
       "      <td>244.396212</td>\n",
       "    </tr>\n",
       "    <tr>\n",
       "      <th>2</th>\n",
       "      <td>2018-08-01 02:00:00</td>\n",
       "      <td>234.635415</td>\n",
       "    </tr>\n",
       "    <tr>\n",
       "      <th>3</th>\n",
       "      <td>2018-08-01 03:00:00</td>\n",
       "      <td>195.056905</td>\n",
       "    </tr>\n",
       "    <tr>\n",
       "      <th>4</th>\n",
       "      <td>2018-08-01 04:00:00</td>\n",
       "      <td>192.751732</td>\n",
       "    </tr>\n",
       "    <tr>\n",
       "      <th>...</th>\n",
       "      <td>...</td>\n",
       "      <td>...</td>\n",
       "    </tr>\n",
       "    <tr>\n",
       "      <th>739</th>\n",
       "      <td>2018-08-31 19:00:00</td>\n",
       "      <td>196.923230</td>\n",
       "    </tr>\n",
       "    <tr>\n",
       "      <th>740</th>\n",
       "      <td>2018-08-31 20:00:00</td>\n",
       "      <td>243.214698</td>\n",
       "    </tr>\n",
       "    <tr>\n",
       "      <th>741</th>\n",
       "      <td>2018-08-31 21:00:00</td>\n",
       "      <td>229.113615</td>\n",
       "    </tr>\n",
       "    <tr>\n",
       "      <th>742</th>\n",
       "      <td>2018-08-31 22:00:00</td>\n",
       "      <td>203.496340</td>\n",
       "    </tr>\n",
       "    <tr>\n",
       "      <th>743</th>\n",
       "      <td>2018-08-31 23:00:00</td>\n",
       "      <td>227.199068</td>\n",
       "    </tr>\n",
       "  </tbody>\n",
       "</table>\n",
       "<p>744 rows × 2 columns</p>\n",
       "</div>"
      ],
      "text/plain": [
       "              Timestamp   sensor_51\n",
       "0   2018-08-01 00:00:00  231.491122\n",
       "1   2018-08-01 01:00:00  244.396212\n",
       "2   2018-08-01 02:00:00  234.635415\n",
       "3   2018-08-01 03:00:00  195.056905\n",
       "4   2018-08-01 04:00:00  192.751732\n",
       "..                  ...         ...\n",
       "739 2018-08-31 19:00:00  196.923230\n",
       "740 2018-08-31 20:00:00  243.214698\n",
       "741 2018-08-31 21:00:00  229.113615\n",
       "742 2018-08-31 22:00:00  203.496340\n",
       "743 2018-08-31 23:00:00  227.199068\n",
       "\n",
       "[744 rows x 2 columns]"
      ]
     },
     "execution_count": 34,
     "metadata": {},
     "output_type": "execute_result"
    }
   ],
   "source": [
    "trainData.reset_index()"
   ]
  },
  {
   "cell_type": "code",
   "execution_count": 35,
   "id": "e4713557",
   "metadata": {},
   "outputs": [
    {
     "data": {
      "text/plain": [
       "<function matplotlib.pyplot.show(close=None, block=None)>"
      ]
     },
     "execution_count": 35,
     "metadata": {},
     "output_type": "execute_result"
    },
    {
     "data": {
      "image/png": "[encoded data removed]",
      "text/plain": [
       "<Figure size 432x288 with 1 Axes>"
      ]
     },
     "metadata": {
      "needs_background": "light"
     },
     "output_type": "display_data"
    }
   ],
   "source": [
    "x=pd.to_numeric(trainData.index)\n",
    "y=pd.to_numeric(trainData)\n",
    "result = lowess(y, x, frac=0.1, it=3, delta=0.0)\n",
    "ar2 =[]\n",
    "for i in range(len(result[0])):\n",
    "    b =[]\n",
    "    for j in range(len(result)):\n",
    "        b.append(result[j][i])\n",
    "    ar2.append(b)\n",
    "sns.lineplot(x=ar2[0], y=ar2[1])\n",
    "plt.show"
   ]
  },
  {
   "cell_type": "code",
   "execution_count": null,
   "id": "89cdec6a",
   "metadata": {},
   "outputs": [],
   "source": [
    "y[y.isnull()] = 0\n",
    "ya = np.array(y.values.tolist())\n",
    "maxs = list(argrelextrema(ya, np.greater)[0])\n",
    "mins = list(argrelextrema(ya, np.less)[0])\n",
    "extreme = maxs+mins\n",
    "extreme_single = list({d:None for d in extreme}.keys())"
   ]
  },
  {
   "cell_type": "code",
   "execution_count": 14,
   "id": "7ded80f6",
   "metadata": {},
   "outputs": [],
   "source": [
    "result = lowess(y, x, frac=0.05, it=3, delta=0.0)\n",
    "ar2 =[]\n",
    "for i in range(len(result[0])):\n",
    "    b =[]\n",
    "    for j in range(len(result)):\n",
    "        b.append(result[j][i])\n",
    "    ar2.append(b)"
   ]
  },
  {
   "cell_type": "code",
   "execution_count": 17,
   "id": "b6b49c4c",
   "metadata": {},
   "outputs": [
    {
     "data": {
      "text/plain": [
       "2"
      ]
     },
     "execution_count": 17,
     "metadata": {},
     "output_type": "execute_result"
    }
   ],
   "source": [
    "len(result[0])"
   ]
  },
  {
   "cell_type": "code",
   "execution_count": 15,
   "id": "5fd6e674",
   "metadata": {},
   "outputs": [
    {
     "ename": "KeyboardInterrupt",
     "evalue": "",
     "output_type": "error",
     "traceback": [
      "\u001b[1;31m---------------------------------------------------------------------------\u001b[0m",
      "\u001b[1;31mKeyboardInterrupt\u001b[0m                         Traceback (most recent call last)",
      "\u001b[1;32m~\\AppData\\Local\\Temp/ipykernel_11568/1891709259.py\u001b[0m in \u001b[0;36m<module>\u001b[1;34m\u001b[0m\n\u001b[1;32m----> 1\u001b[1;33m \u001b[0mpx\u001b[0m\u001b[1;33m,\u001b[0m \u001b[0mpy\u001b[0m \u001b[1;33m=\u001b[0m \u001b[0msegments_fit\u001b[0m\u001b[1;33m(\u001b[0m\u001b[0mnp\u001b[0m\u001b[1;33m.\u001b[0m\u001b[0marray\u001b[0m\u001b[1;33m(\u001b[0m\u001b[0mar2\u001b[0m\u001b[1;33m[\u001b[0m\u001b[1;36m0\u001b[0m\u001b[1;33m]\u001b[0m\u001b[1;33m)\u001b[0m\u001b[1;33m,\u001b[0m \u001b[0mnp\u001b[0m\u001b[1;33m.\u001b[0m\u001b[0marray\u001b[0m\u001b[1;33m(\u001b[0m\u001b[0mar2\u001b[0m\u001b[1;33m[\u001b[0m\u001b[1;36m1\u001b[0m\u001b[1;33m]\u001b[0m\u001b[1;33m)\u001b[0m\u001b[1;33m,\u001b[0m \u001b[0mlen\u001b[0m\u001b[1;33m(\u001b[0m\u001b[0mextreme_single\u001b[0m\u001b[1;33m)\u001b[0m\u001b[1;33m)\u001b[0m\u001b[1;33m\u001b[0m\u001b[1;33m\u001b[0m\u001b[0m\n\u001b[0m\u001b[0;32m      2\u001b[0m \u001b[0mpl\u001b[0m\u001b[1;33m.\u001b[0m\u001b[0mplot\u001b[0m\u001b[1;33m(\u001b[0m\u001b[0mnp\u001b[0m\u001b[1;33m.\u001b[0m\u001b[0marray\u001b[0m\u001b[1;33m(\u001b[0m\u001b[0mar2\u001b[0m\u001b[1;33m[\u001b[0m\u001b[1;36m0\u001b[0m\u001b[1;33m]\u001b[0m\u001b[1;33m)\u001b[0m\u001b[1;33m,\u001b[0m \u001b[0mnp\u001b[0m\u001b[1;33m.\u001b[0m\u001b[0marray\u001b[0m\u001b[1;33m(\u001b[0m\u001b[0mar2\u001b[0m\u001b[1;33m[\u001b[0m\u001b[1;36m1\u001b[0m\u001b[1;33m]\u001b[0m\u001b[1;33m)\u001b[0m\u001b[1;33m,\u001b[0m \u001b[1;34m\".\"\u001b[0m\u001b[1;33m)\u001b[0m\u001b[1;33m\u001b[0m\u001b[1;33m\u001b[0m\u001b[0m\n\u001b[0;32m      3\u001b[0m \u001b[0mpl\u001b[0m\u001b[1;33m.\u001b[0m\u001b[0mplot\u001b[0m\u001b[1;33m(\u001b[0m\u001b[0mpx\u001b[0m\u001b[1;33m,\u001b[0m \u001b[0mpy\u001b[0m\u001b[1;33m,\u001b[0m \u001b[1;34m\"-or\"\u001b[0m\u001b[1;33m)\u001b[0m\u001b[1;33m\u001b[0m\u001b[1;33m\u001b[0m\u001b[0m\n",
      "\u001b[1;32m~\\AppData\\Local\\Temp/ipykernel_11568/1714089595.py\u001b[0m in \u001b[0;36msegments_fit\u001b[1;34m(X, Y, count)\u001b[0m\n\u001b[0;32m     21\u001b[0m         \u001b[1;32mreturn\u001b[0m \u001b[0mnp\u001b[0m\u001b[1;33m.\u001b[0m\u001b[0mmean\u001b[0m\u001b[1;33m(\u001b[0m\u001b[1;33m(\u001b[0m\u001b[0mY\u001b[0m \u001b[1;33m-\u001b[0m \u001b[0mY2\u001b[0m\u001b[1;33m)\u001b[0m\u001b[1;33m**\u001b[0m\u001b[1;36m2\u001b[0m\u001b[1;33m)\u001b[0m\u001b[1;33m\u001b[0m\u001b[1;33m\u001b[0m\u001b[0m\n\u001b[0;32m     22\u001b[0m \u001b[1;33m\u001b[0m\u001b[0m\n\u001b[1;32m---> 23\u001b[1;33m     \u001b[0mr\u001b[0m \u001b[1;33m=\u001b[0m \u001b[0moptimize\u001b[0m\u001b[1;33m.\u001b[0m\u001b[0mminimize\u001b[0m\u001b[1;33m(\u001b[0m\u001b[0merr\u001b[0m\u001b[1;33m,\u001b[0m \u001b[0mx0\u001b[0m\u001b[1;33m=\u001b[0m\u001b[0mnp\u001b[0m\u001b[1;33m.\u001b[0m\u001b[0mr_\u001b[0m\u001b[1;33m[\u001b[0m\u001b[0mseg\u001b[0m\u001b[1;33m,\u001b[0m \u001b[0mpy_init\u001b[0m\u001b[1;33m]\u001b[0m\u001b[1;33m,\u001b[0m \u001b[0mmethod\u001b[0m\u001b[1;33m=\u001b[0m\u001b[1;34m'Nelder-Mead'\u001b[0m\u001b[1;33m)\u001b[0m\u001b[1;33m\u001b[0m\u001b[1;33m\u001b[0m\u001b[0m\n\u001b[0m\u001b[0;32m     24\u001b[0m     \u001b[1;32mreturn\u001b[0m \u001b[0mfunc\u001b[0m\u001b[1;33m(\u001b[0m\u001b[0mr\u001b[0m\u001b[1;33m.\u001b[0m\u001b[0mx\u001b[0m\u001b[1;33m)\u001b[0m\u001b[1;33m\u001b[0m\u001b[1;33m\u001b[0m\u001b[0m\n",
      "\u001b[1;32m~\\anaconda3\\lib\\site-packages\\scipy\\optimize\\_minimize.py\u001b[0m in \u001b[0;36mminimize\u001b[1;34m(fun, x0, args, method, jac, hess, hessp, bounds, constraints, tol, callback, options)\u001b[0m\n\u001b[0;32m    609\u001b[0m \u001b[1;33m\u001b[0m\u001b[0m\n\u001b[0;32m    610\u001b[0m     \u001b[1;32mif\u001b[0m \u001b[0mmeth\u001b[0m \u001b[1;33m==\u001b[0m \u001b[1;34m'nelder-mead'\u001b[0m\u001b[1;33m:\u001b[0m\u001b[1;33m\u001b[0m\u001b[1;33m\u001b[0m\u001b[0m\n\u001b[1;32m--> 611\u001b[1;33m         return _minimize_neldermead(fun, x0, args, callback, bounds=bounds,\n\u001b[0m\u001b[0;32m    612\u001b[0m                                     **options)\n\u001b[0;32m    613\u001b[0m     \u001b[1;32melif\u001b[0m \u001b[0mmeth\u001b[0m \u001b[1;33m==\u001b[0m \u001b[1;34m'powell'\u001b[0m\u001b[1;33m:\u001b[0m\u001b[1;33m\u001b[0m\u001b[1;33m\u001b[0m\u001b[0m\n",
      "\u001b[1;32m~\\anaconda3\\lib\\site-packages\\scipy\\optimize\\optimize.py\u001b[0m in \u001b[0;36m_minimize_neldermead\u001b[1;34m(func, x0, args, callback, maxiter, maxfev, disp, return_all, initial_simplex, xatol, fatol, adaptive, bounds, **unknown_options)\u001b[0m\n\u001b[0;32m    819\u001b[0m \u001b[1;33m\u001b[0m\u001b[0m\n\u001b[0;32m    820\u001b[0m         \u001b[0mind\u001b[0m \u001b[1;33m=\u001b[0m \u001b[0mnp\u001b[0m\u001b[1;33m.\u001b[0m\u001b[0margsort\u001b[0m\u001b[1;33m(\u001b[0m\u001b[0mfsim\u001b[0m\u001b[1;33m)\u001b[0m\u001b[1;33m\u001b[0m\u001b[1;33m\u001b[0m\u001b[0m\n\u001b[1;32m--> 821\u001b[1;33m         \u001b[0msim\u001b[0m \u001b[1;33m=\u001b[0m \u001b[0mnp\u001b[0m\u001b[1;33m.\u001b[0m\u001b[0mtake\u001b[0m\u001b[1;33m(\u001b[0m\u001b[0msim\u001b[0m\u001b[1;33m,\u001b[0m \u001b[0mind\u001b[0m\u001b[1;33m,\u001b[0m \u001b[1;36m0\u001b[0m\u001b[1;33m)\u001b[0m\u001b[1;33m\u001b[0m\u001b[1;33m\u001b[0m\u001b[0m\n\u001b[0m\u001b[0;32m    822\u001b[0m         \u001b[0mfsim\u001b[0m \u001b[1;33m=\u001b[0m \u001b[0mnp\u001b[0m\u001b[1;33m.\u001b[0m\u001b[0mtake\u001b[0m\u001b[1;33m(\u001b[0m\u001b[0mfsim\u001b[0m\u001b[1;33m,\u001b[0m \u001b[0mind\u001b[0m\u001b[1;33m,\u001b[0m \u001b[1;36m0\u001b[0m\u001b[1;33m)\u001b[0m\u001b[1;33m\u001b[0m\u001b[1;33m\u001b[0m\u001b[0m\n\u001b[0;32m    823\u001b[0m         \u001b[1;32mif\u001b[0m \u001b[0mcallback\u001b[0m \u001b[1;32mis\u001b[0m \u001b[1;32mnot\u001b[0m \u001b[1;32mNone\u001b[0m\u001b[1;33m:\u001b[0m\u001b[1;33m\u001b[0m\u001b[1;33m\u001b[0m\u001b[0m\n",
      "\u001b[1;32m<__array_function__ internals>\u001b[0m in \u001b[0;36mtake\u001b[1;34m(*args, **kwargs)\u001b[0m\n",
      "\u001b[1;32m~\\anaconda3\\lib\\site-packages\\numpy\\core\\fromnumeric.py\u001b[0m in \u001b[0;36mtake\u001b[1;34m(a, indices, axis, out, mode)\u001b[0m\n\u001b[0;32m    189\u001b[0m            [5, 7]])\n\u001b[0;32m    190\u001b[0m     \"\"\"\n\u001b[1;32m--> 191\u001b[1;33m     \u001b[1;32mreturn\u001b[0m \u001b[0m_wrapfunc\u001b[0m\u001b[1;33m(\u001b[0m\u001b[0ma\u001b[0m\u001b[1;33m,\u001b[0m \u001b[1;34m'take'\u001b[0m\u001b[1;33m,\u001b[0m \u001b[0mindices\u001b[0m\u001b[1;33m,\u001b[0m \u001b[0maxis\u001b[0m\u001b[1;33m=\u001b[0m\u001b[0maxis\u001b[0m\u001b[1;33m,\u001b[0m \u001b[0mout\u001b[0m\u001b[1;33m=\u001b[0m\u001b[0mout\u001b[0m\u001b[1;33m,\u001b[0m \u001b[0mmode\u001b[0m\u001b[1;33m=\u001b[0m\u001b[0mmode\u001b[0m\u001b[1;33m)\u001b[0m\u001b[1;33m\u001b[0m\u001b[1;33m\u001b[0m\u001b[0m\n\u001b[0m\u001b[0;32m    192\u001b[0m \u001b[1;33m\u001b[0m\u001b[0m\n\u001b[0;32m    193\u001b[0m \u001b[1;33m\u001b[0m\u001b[0m\n",
      "\u001b[1;32m~\\anaconda3\\lib\\site-packages\\numpy\\core\\fromnumeric.py\u001b[0m in \u001b[0;36m_wrapfunc\u001b[1;34m(obj, method, *args, **kwds)\u001b[0m\n\u001b[0;32m     56\u001b[0m \u001b[1;33m\u001b[0m\u001b[0m\n\u001b[0;32m     57\u001b[0m     \u001b[1;32mtry\u001b[0m\u001b[1;33m:\u001b[0m\u001b[1;33m\u001b[0m\u001b[1;33m\u001b[0m\u001b[0m\n\u001b[1;32m---> 58\u001b[1;33m         \u001b[1;32mreturn\u001b[0m \u001b[0mbound\u001b[0m\u001b[1;33m(\u001b[0m\u001b[1;33m*\u001b[0m\u001b[0margs\u001b[0m\u001b[1;33m,\u001b[0m \u001b[1;33m**\u001b[0m\u001b[0mkwds\u001b[0m\u001b[1;33m)\u001b[0m\u001b[1;33m\u001b[0m\u001b[1;33m\u001b[0m\u001b[0m\n\u001b[0m\u001b[0;32m     59\u001b[0m     \u001b[1;32mexcept\u001b[0m \u001b[0mTypeError\u001b[0m\u001b[1;33m:\u001b[0m\u001b[1;33m\u001b[0m\u001b[1;33m\u001b[0m\u001b[0m\n\u001b[0;32m     60\u001b[0m         \u001b[1;31m# A TypeError occurs if the object does have such a method in its\u001b[0m\u001b[1;33m\u001b[0m\u001b[1;33m\u001b[0m\u001b[0m\n",
      "\u001b[1;31mKeyboardInterrupt\u001b[0m: "
     ]
    }
   ],
   "source": [
    "px, py = segments_fit(np.array(ar2[0]), np.array(ar2[1]), len(extreme_single))\n",
    "pl.plot(np.array(ar2[0]), np.array(ar2[1]), \".\")\n",
    "pl.plot(px, py, \"-or\")"
   ]
  },
  {
   "cell_type": "code",
   "execution_count": null,
   "id": "fbff93d7",
   "metadata": {},
   "outputs": [],
   "source": []
  },
  {
   "cell_type": "code",
   "execution_count": null,
   "id": "cfd7d355",
   "metadata": {},
   "outputs": [],
   "source": []
  },
  {
   "cell_type": "code",
   "execution_count": null,
   "id": "a1107981",
   "metadata": {},
   "outputs": [],
   "source": []
  },
  {
   "cell_type": "code",
   "execution_count": null,
   "id": "01cd77bf",
   "metadata": {},
   "outputs": [],
   "source": []
  },
  {
   "cell_type": "code",
   "execution_count": null,
   "id": "e1a13016",
   "metadata": {},
   "outputs": [],
   "source": []
  },
  {
   "cell_type": "code",
   "execution_count": null,
   "id": "1281cd8b",
   "metadata": {},
   "outputs": [],
   "source": []
  },
  {
   "cell_type": "code",
   "execution_count": null,
   "id": "e1e6c9ef",
   "metadata": {},
   "outputs": [],
   "source": []
  },
  {
   "cell_type": "code",
   "execution_count": null,
   "id": "b6560f50",
   "metadata": {},
   "outputs": [],
   "source": []
  },
  {
   "cell_type": "code",
   "execution_count": null,
   "id": "2d317f1e",
   "metadata": {},
   "outputs": [],
   "source": []
  },
  {
   "cell_type": "code",
   "execution_count": null,
   "id": "b930d380",
   "metadata": {},
   "outputs": [],
   "source": []
  },
  {
   "cell_type": "code",
   "execution_count": null,
   "id": "536125b0",
   "metadata": {},
   "outputs": [],
   "source": []
  },
  {
   "cell_type": "code",
   "execution_count": null,
   "id": "6ca63edd",
   "metadata": {},
   "outputs": [],
   "source": []
  },
  {
   "cell_type": "code",
   "execution_count": null,
   "id": "96683f01",
   "metadata": {},
   "outputs": [],
   "source": []
  },
  {
   "cell_type": "code",
   "execution_count": 247,
   "id": "e6108102",
   "metadata": {
    "scrolled": false
   },
   "outputs": [],
   "source": [
    "# ar2"
   ]
  },
  {
   "cell_type": "code",
   "execution_count": 36,
   "id": "16ac21d2",
   "metadata": {},
   "outputs": [],
   "source": [
    "y[y.isnull()] = 0"
   ]
  },
  {
   "cell_type": "code",
   "execution_count": 43,
   "id": "8333bbe3",
   "metadata": {},
   "outputs": [
    {
     "data": {
      "text/plain": [
       "pandas.core.series.Series"
      ]
     },
     "execution_count": 43,
     "metadata": {},
     "output_type": "execute_result"
    }
   ],
   "source": [
    "type(y)"
   ]
  },
  {
   "cell_type": "code",
   "execution_count": 68,
   "id": "cadcd53f",
   "metadata": {},
   "outputs": [],
   "source": [
    "ya = np.array(y.values.tolist())"
   ]
  },
  {
   "cell_type": "code",
   "execution_count": 84,
   "id": "bd9572be",
   "metadata": {},
   "outputs": [],
   "source": [
    "maxs = list(argrelextrema(ya, np.greater)[0])"
   ]
  },
  {
   "cell_type": "code",
   "execution_count": 85,
   "id": "1243a526",
   "metadata": {},
   "outputs": [],
   "source": [
    "mins = list(argrelextrema(ya, np.less)[0])"
   ]
  },
  {
   "cell_type": "code",
   "execution_count": 87,
   "id": "72a1dc59",
   "metadata": {},
   "outputs": [],
   "source": [
    "extreme = maxs+mins\n",
    "# extreme"
   ]
  },
  {
   "cell_type": "code",
   "execution_count": 89,
   "id": "accf094c",
   "metadata": {},
   "outputs": [],
   "source": [
    "extreme_single = list({d:None for d in extreme}.keys())\n",
    "# extreme_single"
   ]
  },
  {
   "cell_type": "code",
   "execution_count": null,
   "id": "6b48892b",
   "metadata": {},
   "outputs": [],
   "source": []
  },
  {
   "cell_type": "code",
   "execution_count": 99,
   "id": "393097e4",
   "metadata": {},
   "outputs": [],
   "source": []
  },
  {
   "cell_type": "code",
   "execution_count": 100,
   "id": "9174925e",
   "metadata": {},
   "outputs": [],
   "source": []
  },
  {
   "cell_type": "code",
   "execution_count": 106,
   "id": "e388c383",
   "metadata": {},
   "outputs": [
    {
     "data": {
      "text/plain": [
       "[<matplotlib.lines.Line2D at 0x1535642f580>]"
      ]
     },
     "execution_count": 106,
     "metadata": {},
     "output_type": "execute_result"
    },
    {
     "data": {
      "image/png": "[encoded data removed]",
      "text/plain": [
       "<Figure size 432x288 with 1 Axes>"
      ]
     },
     "metadata": {
      "needs_background": "light"
     },
     "output_type": "display_data"
    }
   ],
   "source": [
    "px, py = segments_fit(np.array(ar2[0]), np.array(ar2[1]), len(extreme_single))\n",
    "pl.plot(np.array(ar2[0]), np.array(ar2[1]), \".\")\n",
    "pl.plot(px, py, \"-or\")"
   ]
  },
  {
   "cell_type": "code",
   "execution_count": 122,
   "id": "2dcee970",
   "metadata": {},
   "outputs": [],
   "source": [
    "lpx = list(px)\n",
    "lpy = list(py)"
   ]
  },
  {
   "cell_type": "code",
   "execution_count": 127,
   "id": "85f56fa6",
   "metadata": {},
   "outputs": [],
   "source": [
    "lstate=[]\n",
    "for i in range(len(lpx)-1):\n",
    "    lstate.append(np.arccos((lpy[i+1]-lpy[i])/((lpx[i+1]-lpx[i])*10)))\n",
    "# lstate"
   ]
  },
  {
   "cell_type": "code",
   "execution_count": 118,
   "id": "ad61d5eb",
   "metadata": {},
   "outputs": [
    {
     "data": {
      "text/plain": [
       "2.271326276722666"
      ]
     },
     "execution_count": 118,
     "metadata": {},
     "output_type": "execute_result"
    }
   ],
   "source": [
    "max(lstate)"
   ]
  },
  {
   "cell_type": "code",
   "execution_count": 119,
   "id": "72c2f403",
   "metadata": {},
   "outputs": [
    {
     "data": {
      "text/plain": [
       "0.8159823842251508"
      ]
     },
     "execution_count": 119,
     "metadata": {},
     "output_type": "execute_result"
    }
   ],
   "source": [
    "min(lstate)"
   ]
  },
  {
   "cell_type": "code",
   "execution_count": 1,
   "id": "794bb26a",
   "metadata": {},
   "outputs": [
    {
     "ename": "NameError",
     "evalue": "name 'lstate' is not defined",
     "output_type": "error",
     "traceback": [
      "\u001b[1;31m---------------------------------------------------------------------------\u001b[0m",
      "\u001b[1;31mNameError\u001b[0m                                 Traceback (most recent call last)",
      "\u001b[1;32m~\\AppData\\Local\\Temp/ipykernel_18068/2195509411.py\u001b[0m in \u001b[0;36m<module>\u001b[1;34m\u001b[0m\n\u001b[0;32m      2\u001b[0m \u001b[0mquali_state\u001b[0m \u001b[1;33m=\u001b[0m \u001b[1;33m[\u001b[0m\u001b[1;33m]\u001b[0m\u001b[1;33m\u001b[0m\u001b[1;33m\u001b[0m\u001b[0m\n\u001b[0;32m      3\u001b[0m \u001b[0mcolors\u001b[0m \u001b[1;33m=\u001b[0m \u001b[1;33m[\u001b[0m\u001b[1;33m]\u001b[0m\u001b[1;33m\u001b[0m\u001b[1;33m\u001b[0m\u001b[0m\n\u001b[1;32m----> 4\u001b[1;33m \u001b[1;32mfor\u001b[0m \u001b[0mi\u001b[0m \u001b[1;32min\u001b[0m \u001b[0mlstate\u001b[0m \u001b[1;33m:\u001b[0m\u001b[1;33m\u001b[0m\u001b[1;33m\u001b[0m\u001b[0m\n\u001b[0m\u001b[0;32m      5\u001b[0m     \u001b[1;32mif\u001b[0m \u001b[1;36m0\u001b[0m\u001b[1;33m<\u001b[0m\u001b[0mi\u001b[0m\u001b[1;33m<\u001b[0m\u001b[0mmath\u001b[0m\u001b[1;33m.\u001b[0m\u001b[0mpi\u001b[0m\u001b[1;33m/\u001b[0m\u001b[1;36m6\u001b[0m\u001b[1;33m:\u001b[0m\u001b[1;33m\u001b[0m\u001b[1;33m\u001b[0m\u001b[0m\n\u001b[0;32m      6\u001b[0m         \u001b[0mquali_state\u001b[0m\u001b[1;33m.\u001b[0m\u001b[0mappend\u001b[0m\u001b[1;33m(\u001b[0m\u001b[1;36m0\u001b[0m\u001b[1;33m)\u001b[0m\u001b[1;33m\u001b[0m\u001b[1;33m\u001b[0m\u001b[0m\n",
      "\u001b[1;31mNameError\u001b[0m: name 'lstate' is not defined"
     ]
    }
   ],
   "source": [
    "import math\n",
    "quali_state = []\n",
    "for i in lstate : \n",
    "    if 0<i<math.pi/6:\n",
    "        quali_state.append(0)\n",
    "    elif math.pi/6<i<2*math.pi/6:\n",
    "        quali_state.append(1)\n",
    "    elif 2*math.pi/6<i<3*math.pi/6:\n",
    "        quali_state.append(2)\n",
    "    elif 3*math.pi/6<i<4*math.pi/6:\n",
    "        quali_state.append(3)\n",
    "    elif 4*math.pi/6<i<5*math.pi/6:\n",
    "        quali_state.append(4)\n",
    "    elif 5*math.pi/6<i<6*math.pi/6:\n",
    "        quali_state.append(5)\n",
    "    else:\n",
    "        quali_state.append(6)"
   ]
  },
  {
   "cell_type": "code",
   "execution_count": 157,
   "id": "5576a350",
   "metadata": {},
   "outputs": [],
   "source": [
    "# np.arccos(-1)"
   ]
  },
  {
   "cell_type": "code",
   "execution_count": 158,
   "id": "ea24885b",
   "metadata": {},
   "outputs": [],
   "source": [
    "ar = np.array([lstate, quali_state])\n",
    "# ar"
   ]
  },
  {
   "cell_type": "code",
   "execution_count": 174,
   "id": "02e88485",
   "metadata": {},
   "outputs": [
    {
     "data": {
      "text/html": [
       "<div>\n",
       "<style scoped>\n",
       "    .dataframe tbody tr th:only-of-type {\n",
       "        vertical-align: middle;\n",
       "    }\n",
       "\n",
       "    .dataframe tbody tr th {\n",
       "        vertical-align: top;\n",
       "    }\n",
       "\n",
       "    .dataframe thead th {\n",
       "        text-align: right;\n",
       "    }\n",
       "</style>\n",
       "<table border=\"1\" class=\"dataframe\">\n",
       "  <thead>\n",
       "    <tr style=\"text-align: right;\">\n",
       "      <th></th>\n",
       "      <th>val_ongle</th>\n",
       "      <th>state</th>\n",
       "    </tr>\n",
       "  </thead>\n",
       "  <tbody>\n",
       "    <tr>\n",
       "      <th>0</th>\n",
       "      <td>1.565886</td>\n",
       "      <td>3</td>\n",
       "    </tr>\n",
       "    <tr>\n",
       "      <th>1</th>\n",
       "      <td>1.569038</td>\n",
       "      <td>3</td>\n",
       "    </tr>\n",
       "    <tr>\n",
       "      <th>2</th>\n",
       "      <td>1.568659</td>\n",
       "      <td>3</td>\n",
       "    </tr>\n",
       "    <tr>\n",
       "      <th>3</th>\n",
       "      <td>1.578714</td>\n",
       "      <td>4</td>\n",
       "    </tr>\n",
       "    <tr>\n",
       "      <th>4</th>\n",
       "      <td>1.582990</td>\n",
       "      <td>4</td>\n",
       "    </tr>\n",
       "    <tr>\n",
       "      <th>...</th>\n",
       "      <td>...</td>\n",
       "      <td>...</td>\n",
       "    </tr>\n",
       "    <tr>\n",
       "      <th>73</th>\n",
       "      <td>1.610457</td>\n",
       "      <td>4</td>\n",
       "    </tr>\n",
       "    <tr>\n",
       "      <th>74</th>\n",
       "      <td>1.576305</td>\n",
       "      <td>4</td>\n",
       "    </tr>\n",
       "    <tr>\n",
       "      <th>75</th>\n",
       "      <td>1.573828</td>\n",
       "      <td>4</td>\n",
       "    </tr>\n",
       "    <tr>\n",
       "      <th>76</th>\n",
       "      <td>1.574830</td>\n",
       "      <td>4</td>\n",
       "    </tr>\n",
       "    <tr>\n",
       "      <th>77</th>\n",
       "      <td>1.573387</td>\n",
       "      <td>4</td>\n",
       "    </tr>\n",
       "  </tbody>\n",
       "</table>\n",
       "<p>78 rows × 2 columns</p>\n",
       "</div>"
      ],
      "text/plain": [
       "    val_ongle  state\n",
       "0    1.565886      3\n",
       "1    1.569038      3\n",
       "2    1.568659      3\n",
       "3    1.578714      4\n",
       "4    1.582990      4\n",
       "..        ...    ...\n",
       "73   1.610457      4\n",
       "74   1.576305      4\n",
       "75   1.573828      4\n",
       "76   1.574830      4\n",
       "77   1.573387      4\n",
       "\n",
       "[78 rows x 2 columns]"
      ]
     },
     "execution_count": 174,
     "metadata": {},
     "output_type": "execute_result"
    }
   ],
   "source": [
    "df_state = pd.DataFrame({'val_ongle': pd.Series(lstate), 'state': pd.Series(quali_state)})\n",
    "df_state"
   ]
  },
  {
   "cell_type": "code",
   "execution_count": 183,
   "id": "4117ab76",
   "metadata": {},
   "outputs": [],
   "source": [
    "tab_proba = []\n",
    "for i in range(7):\n",
    "    tab_proba.append([])\n",
    "for i in range(7):    \n",
    "    for j in range(7):\n",
    "        tab_proba[i].append(0)\n",
    "# tab_proba"
   ]
  },
  {
   "cell_type": "code",
   "execution_count": 184,
   "id": "9f117b49",
   "metadata": {},
   "outputs": [
    {
     "data": {
      "text/plain": [
       "[[0, 0, 0, 0, 0, 0, 0],\n",
       " [0, 0, 0, 0, 1, 0, 0],\n",
       " [0, 0, 0, 0, 0, 1, 0],\n",
       " [0, 1, 0, 18, 19, 0, 0],\n",
       " [0, 0, 1, 18, 17, 0, 0],\n",
       " [0, 0, 0, 1, 0, 0, 0],\n",
       " [0, 0, 0, 0, 0, 0, 0]]"
      ]
     },
     "execution_count": 184,
     "metadata": {},
     "output_type": "execute_result"
    }
   ],
   "source": [
    "for i in range(len(df_state[\"state\"])-1):\n",
    "    a=df_state[\"state\"][i]\n",
    "    b=df_state[\"state\"][i+1]\n",
    "    tab_proba[a][b]=tab_proba[a][b]+1\n",
    "tab_proba"
   ]
  },
  {
   "cell_type": "code",
   "execution_count": null,
   "id": "e2f56c0c",
   "metadata": {},
   "outputs": [],
   "source": []
  },
  {
   "cell_type": "code",
   "execution_count": null,
   "id": "ff0db38e",
   "metadata": {},
   "outputs": [],
   "source": []
  },
  {
   "cell_type": "code",
   "execution_count": null,
   "id": "d0292a6c",
   "metadata": {},
   "outputs": [],
   "source": []
  },
  {
   "cell_type": "code",
   "execution_count": null,
   "id": "99150114",
   "metadata": {},
   "outputs": [],
   "source": []
  },
  {
   "cell_type": "code",
   "execution_count": null,
   "id": "49a104a8",
   "metadata": {},
   "outputs": [],
   "source": []
  },
  {
   "cell_type": "code",
   "execution_count": null,
   "id": "2566bc5e",
   "metadata": {},
   "outputs": [],
   "source": []
  },
  {
   "cell_type": "code",
   "execution_count": null,
   "id": "d2c78f40",
   "metadata": {},
   "outputs": [],
   "source": []
  },
  {
   "cell_type": "code",
   "execution_count": 139,
   "id": "9733f491",
   "metadata": {},
   "outputs": [],
   "source": [
    "# Table of distance"
   ]
  },
  {
   "cell_type": "code",
   "execution_count": 140,
   "id": "5826e7b3",
   "metadata": {},
   "outputs": [],
   "source": [
    "tab_dis = []\n",
    "for i in range(len(ar2[0])):\n",
    "    tab_dis.append([])\n",
    "for i in range(len(ar2[0])):    \n",
    "    for j in range(len(ar2[1])):\n",
    "        tab_dis[i].append([])\n",
    "# tab_dis"
   ]
  },
  {
   "cell_type": "code",
   "execution_count": 141,
   "id": "01a6cb62",
   "metadata": {},
   "outputs": [],
   "source": [
    "for i in range(len(ar2[0])):\n",
    "    for j in range(len(ar2[1])):\n",
    "        tab_dis[i][j] = abs(ar2[1][i] - ar2[1][j] )"
   ]
  },
  {
   "cell_type": "code",
   "execution_count": 22,
   "id": "852ec5e2",
   "metadata": {},
   "outputs": [],
   "source": [
    "# tab_dis"
   ]
  },
  {
   "cell_type": "code",
   "execution_count": 23,
   "id": "197fed79",
   "metadata": {},
   "outputs": [],
   "source": [
    "df_dist = pd.DataFrame(tab_dis)"
   ]
  },
  {
   "cell_type": "code",
   "execution_count": 24,
   "id": "cd2bb60f",
   "metadata": {},
   "outputs": [],
   "source": [
    "# df_dist"
   ]
  },
  {
   "cell_type": "code",
   "execution_count": 25,
   "id": "c61afdb9",
   "metadata": {},
   "outputs": [
    {
     "data": {
      "text/plain": [
       "(151, 151)"
      ]
     },
     "execution_count": 25,
     "metadata": {},
     "output_type": "execute_result"
    }
   ],
   "source": [
    "df_dist.shape"
   ]
  },
  {
   "cell_type": "code",
   "execution_count": 26,
   "id": "faddad2e",
   "metadata": {},
   "outputs": [],
   "source": [
    "def add_labels(x_list, y_list, labels):\n",
    "    for x,y,label in zip(x_list, y_list, labels):\n",
    "        plt.text(x+0.25, y-0.25, label)"
   ]
  },
  {
   "cell_type": "code",
   "execution_count": 27,
   "id": "f13963bb",
   "metadata": {},
   "outputs": [
    {
     "data": {
      "image/png": "[encoded data removed]",
      "text/plain": [
       "<Figure size 432x288 with 1 Axes>"
      ]
     },
     "metadata": {
      "needs_background": "light"
     },
     "output_type": "display_data"
    }
   ],
   "source": [
    "from sklearn.manifold import MDS\n",
    "aftd = MDS(n_components=2, dissimilarity='precomputed')\n",
    "dist = aftd.fit_transform(df_dist)\n",
    "plt.scatter(*dist.T)\n",
    "add_labels(dist[:, 0], dist[:, 1], df_dist.index)\n",
    "plt.show()"
   ]
  },
  {
   "cell_type": "code",
   "execution_count": null,
   "id": "1a9ec9bd",
   "metadata": {},
   "outputs": [],
   "source": []
  },
  {
   "cell_type": "code",
   "execution_count": null,
   "id": "6613e579",
   "metadata": {},
   "outputs": [],
   "source": []
  },
  {
   "cell_type": "code",
   "execution_count": null,
   "id": "cca4a1fe",
   "metadata": {},
   "outputs": [],
   "source": []
  },
  {
   "cell_type": "code",
   "execution_count": null,
   "id": "9c588cb8",
   "metadata": {},
   "outputs": [],
   "source": [
    "# AFTD"
   ]
  },
  {
   "cell_type": "code",
   "execution_count": null,
   "id": "1322ec24",
   "metadata": {},
   "outputs": [],
   "source": [
    "# clustering 5 groupes "
   ]
  },
  {
   "cell_type": "code",
   "execution_count": 28,
   "id": "0af997fe",
   "metadata": {},
   "outputs": [],
   "source": [
    "from sklearn.cluster import AgglomerativeClustering"
   ]
  },
  {
   "cell_type": "code",
   "execution_count": 29,
   "id": "9dc27fbb",
   "metadata": {},
   "outputs": [
    {
     "name": "stderr",
     "output_type": "stream",
     "text": [
      "C:\\Users\\corri\\anaconda3\\lib\\site-packages\\seaborn\\_decorators.py:36: FutureWarning: Pass the following variables as keyword args: x, y. From version 0.12, the only valid positional argument will be `data`, and passing other arguments without an explicit keyword will result in an error or misinterpretation.\n",
      "  warnings.warn(\n"
     ]
    },
    {
     "data": {
      "image/png": "[encoded data removed]",
      "text/plain": [
       "<Figure size 432x288 with 1 Axes>"
      ]
     },
     "metadata": {
      "needs_background": "light"
     },
     "output_type": "display_data"
    }
   ],
   "source": [
    "model = AgglomerativeClustering(affinity=\"precomputed\", linkage=\"complete\", n_clusters=5).fit(df_dist)\n",
    "labels = model.labels_\n",
    "aftd = MDS(n_components=2, dissimilarity=\"precomputed\")\n",
    "dist = aftd.fit_transform(df_dist)\n",
    "df = pd.DataFrame({\"x\": dist[:, 0], \"y\": dist[:, 1], \"étiquette\": labels})\n",
    "sns.scatterplot(\"x\", \"y\", hue=\"étiquette\", data=df)\n",
    "add_labels(dist[:, 0], dist[:, 1], df_gb[\"Timestamp\"][1:-1])\n",
    "plt.show()"
   ]
  },
  {
   "cell_type": "code",
   "execution_count": 30,
   "id": "ee9ede62",
   "metadata": {},
   "outputs": [
    {
     "data": {
      "text/plain": [
       "153"
      ]
     },
     "execution_count": 30,
     "metadata": {},
     "output_type": "execute_result"
    }
   ],
   "source": [
    "len(df_gb[\"Timestamp\"])"
   ]
  },
  {
   "cell_type": "code",
   "execution_count": 31,
   "id": "18abe526",
   "metadata": {},
   "outputs": [
    {
     "data": {
      "text/plain": [
       "151"
      ]
     },
     "execution_count": 31,
     "metadata": {},
     "output_type": "execute_result"
    }
   ],
   "source": [
    "len(ar2[1])"
   ]
  },
  {
   "cell_type": "code",
   "execution_count": 32,
   "id": "bd09c46d",
   "metadata": {},
   "outputs": [
    {
     "data": {
      "text/plain": [
       "151"
      ]
     },
     "execution_count": 32,
     "metadata": {},
     "output_type": "execute_result"
    }
   ],
   "source": [
    "len(labels)"
   ]
  },
  {
   "cell_type": "code",
   "execution_count": 33,
   "id": "76f39896",
   "metadata": {},
   "outputs": [
    {
     "data": {
      "text/plain": [
       "<function matplotlib.pyplot.show(close=None, block=None)>"
      ]
     },
     "execution_count": 33,
     "metadata": {},
     "output_type": "execute_result"
    },
    {
     "data": {
      "image/png": "[encoded data removed]",
      "text/plain": [
       "<Figure size 432x288 with 1 Axes>"
      ]
     },
     "metadata": {
      "needs_background": "light"
     },
     "output_type": "display_data"
    }
   ],
   "source": [
    "sns.scatterplot(x= df_gb[\"Timestamp\"][1:-1], y=ar2[1],hue=labels)\n",
    "plt.show"
   ]
  },
  {
   "cell_type": "code",
   "execution_count": null,
   "id": "f1b20771",
   "metadata": {},
   "outputs": [],
   "source": [
    "# AFTD"
   ]
  },
  {
   "cell_type": "code",
   "execution_count": null,
   "id": "734330d8",
   "metadata": {},
   "outputs": [],
   "source": [
    "# clustering 3 groupes "
   ]
  },
  {
   "cell_type": "code",
   "execution_count": 34,
   "id": "55ad7a0c",
   "metadata": {},
   "outputs": [
    {
     "data": {
      "text/plain": [
       "<function matplotlib.pyplot.show(close=None, block=None)>"
      ]
     },
     "execution_count": 34,
     "metadata": {},
     "output_type": "execute_result"
    },
    {
     "data": {
      "image/png": "[encoded data removed]",
      "text/plain": [
       "<Figure size 432x288 with 1 Axes>"
      ]
     },
     "metadata": {
      "needs_background": "light"
     },
     "output_type": "display_data"
    }
   ],
   "source": [
    "model = AgglomerativeClustering(affinity=\"precomputed\", linkage=\"complete\", n_clusters=3).fit(df_dist)\n",
    "labels = model.labels_\n",
    "aftd = MDS(n_components=2, dissimilarity=\"precomputed\")\n",
    "dist = aftd.fit_transform(df_dist)\n",
    "df = pd.DataFrame({\"x\": dist[:, 0], \"y\": dist[:, 1], \"étiquette\": labels})\n",
    "sns.scatterplot(x= df_gb[\"Timestamp\"][1:-1], y=ar2[1],hue=labels)\n",
    "plt.show"
   ]
  },
  {
   "cell_type": "code",
   "execution_count": null,
   "id": "f548b212",
   "metadata": {},
   "outputs": [],
   "source": []
  },
  {
   "cell_type": "code",
   "execution_count": 6,
   "id": "96a36170",
   "metadata": {},
   "outputs": [
    {
     "ename": "NameError",
     "evalue": "name 'np' is not defined",
     "output_type": "error",
     "traceback": [
      "\u001b[1;31m---------------------------------------------------------------------------\u001b[0m",
      "\u001b[1;31mNameError\u001b[0m                                 Traceback (most recent call last)",
      "\u001b[1;32m~\\AppData\\Local\\Temp/ipykernel_18068/3737292505.py\u001b[0m in \u001b[0;36m<module>\u001b[1;34m\u001b[0m\n\u001b[1;32m----> 1\u001b[1;33m \u001b[0mnp\u001b[0m\u001b[1;33m.\u001b[0m\u001b[0mones\u001b[0m\u001b[1;33m(\u001b[0m\u001b[1;36m10\u001b[0m\u001b[1;33m)\u001b[0m\u001b[1;33m\u001b[0m\u001b[1;33m\u001b[0m\u001b[0m\n\u001b[0m",
      "\u001b[1;31mNameError\u001b[0m: name 'np' is not defined"
     ]
    }
   ],
   "source": []
  },
  {
   "cell_type": "code",
   "execution_count": 4,
   "id": "f6772b70",
   "metadata": {},
   "outputs": [
    {
     "data": {
      "text/plain": [
       "range(0, 10)"
      ]
     },
     "execution_count": 4,
     "metadata": {},
     "output_type": "execute_result"
    }
   ],
   "source": []
  },
  {
   "cell_type": "code",
   "execution_count": null,
   "id": "5ea1f203",
   "metadata": {},
   "outputs": [],
   "source": [
    "# K-Means "
   ]
  },
  {
   "cell_type": "code",
   "execution_count": null,
   "id": "851c6c34",
   "metadata": {},
   "outputs": [],
   "source": [
    "#clustering 3 groupes"
   ]
  },
  {
   "cell_type": "code",
   "execution_count": 35,
   "id": "685675e0",
   "metadata": {},
   "outputs": [],
   "source": [
    "from sklearn.cluster import KMeans\n",
    "from src2.utils import *"
   ]
  },
  {
   "cell_type": "code",
   "execution_count": 36,
   "id": "7d69c24b",
   "metadata": {},
   "outputs": [
    {
     "data": {
      "image/png": "[encoded data removed]",
      "text/plain": [
       "<Figure size 432x288 with 1 Axes>"
      ]
     },
     "metadata": {
      "needs_background": "light"
     },
     "output_type": "display_data"
    }
   ],
   "source": [
    "cls = KMeans(n_clusters=3, init=\"random\")\n",
    "cls.fit(df_dist)\n",
    "labels_k = pd.Series(cls.labels_, name=\"K-means\")\n",
    "scatterplot_pca(data=df_dist, hue=labels_k)\n",
    "plt.show()"
   ]
  },
  {
   "cell_type": "code",
   "execution_count": 37,
   "id": "480b8a0a",
   "metadata": {},
   "outputs": [],
   "source": [
    "# len(labels_k)"
   ]
  },
  {
   "cell_type": "code",
   "execution_count": 38,
   "id": "348c8b13",
   "metadata": {},
   "outputs": [],
   "source": [
    "# type(labels_k)"
   ]
  },
  {
   "cell_type": "code",
   "execution_count": 39,
   "id": "a8fa106a",
   "metadata": {},
   "outputs": [],
   "source": [
    "# type(labels)"
   ]
  },
  {
   "cell_type": "code",
   "execution_count": 40,
   "id": "3c68444e",
   "metadata": {},
   "outputs": [],
   "source": [
    "list_labels_k = labels_k.to_list()\n",
    "# len(list_labels_k)"
   ]
  },
  {
   "cell_type": "code",
   "execution_count": 41,
   "id": "379fa927",
   "metadata": {},
   "outputs": [],
   "source": [
    "# len(df_gb[\"Timestamp\"][1:-1])"
   ]
  },
  {
   "cell_type": "code",
   "execution_count": 42,
   "id": "1f317db0",
   "metadata": {},
   "outputs": [],
   "source": [
    "# len(ar2[1])"
   ]
  },
  {
   "cell_type": "code",
   "execution_count": 43,
   "id": "3282fc54",
   "metadata": {},
   "outputs": [
    {
     "data": {
      "image/png": "[encoded data removed]",
      "text/plain": [
       "<Figure size 432x288 with 1 Axes>"
      ]
     },
     "metadata": {
      "needs_background": "light"
     },
     "output_type": "display_data"
    }
   ],
   "source": [
    "sns.scatterplot(x = df_gb[\"Timestamp\"][1:-1], y=ar2[1], hue=list_labels_k)\n",
    "plt.show()"
   ]
  },
  {
   "cell_type": "code",
   "execution_count": null,
   "id": "7e52b575",
   "metadata": {},
   "outputs": [],
   "source": []
  },
  {
   "cell_type": "code",
   "execution_count": null,
   "id": "85f3c200",
   "metadata": {},
   "outputs": [],
   "source": []
  },
  {
   "cell_type": "code",
   "execution_count": null,
   "id": "72dfe0d8",
   "metadata": {},
   "outputs": [],
   "source": []
  },
  {
   "cell_type": "code",
   "execution_count": null,
   "id": "0c81ebbc",
   "metadata": {},
   "outputs": [],
   "source": []
  },
  {
   "cell_type": "code",
   "execution_count": null,
   "id": "d4cf434b",
   "metadata": {},
   "outputs": [],
   "source": []
  },
  {
   "cell_type": "code",
   "execution_count": null,
   "id": "b016e5ba",
   "metadata": {},
   "outputs": [],
   "source": []
  },
  {
   "cell_type": "code",
   "execution_count": null,
   "id": "fd94acf5",
   "metadata": {},
   "outputs": [],
   "source": []
  },
  {
   "cell_type": "code",
   "execution_count": null,
   "id": "30e94692",
   "metadata": {},
   "outputs": [],
   "source": []
  },
  {
   "cell_type": "code",
   "execution_count": null,
   "id": "a2e87443",
   "metadata": {},
   "outputs": [],
   "source": []
  },
  {
   "cell_type": "code",
   "execution_count": null,
   "id": "214e0b5e",
   "metadata": {},
   "outputs": [],
   "source": []
  },
  {
   "cell_type": "code",
   "execution_count": null,
   "id": "cbfc0e32",
   "metadata": {},
   "outputs": [],
   "source": []
  },
  {
   "cell_type": "code",
   "execution_count": null,
   "id": "414fb752",
   "metadata": {},
   "outputs": [],
   "source": []
  },
  {
   "cell_type": "code",
   "execution_count": null,
   "id": "2f9b416a",
   "metadata": {},
   "outputs": [],
   "source": []
  },
  {
   "cell_type": "code",
   "execution_count": null,
   "id": "fa55fd67",
   "metadata": {},
   "outputs": [],
   "source": []
  },
  {
   "cell_type": "code",
   "execution_count": null,
   "id": "598df45e",
   "metadata": {},
   "outputs": [],
   "source": []
  },
  {
   "cell_type": "code",
   "execution_count": null,
   "id": "10cb67da",
   "metadata": {},
   "outputs": [],
   "source": []
  },
  {
   "cell_type": "code",
   "execution_count": null,
   "id": "9b3a0738",
   "metadata": {},
   "outputs": [],
   "source": []
  },
  {
   "cell_type": "code",
   "execution_count": null,
   "id": "439ebe1e",
   "metadata": {},
   "outputs": [],
   "source": []
  },
  {
   "cell_type": "code",
   "execution_count": null,
   "id": "09b0d01e",
   "metadata": {},
   "outputs": [],
   "source": []
  },
  {
   "cell_type": "code",
   "execution_count": null,
   "id": "166c06f2",
   "metadata": {},
   "outputs": [],
   "source": []
  },
  {
   "cell_type": "code",
   "execution_count": null,
   "id": "88df51b2",
   "metadata": {},
   "outputs": [],
   "source": []
  },
  {
   "cell_type": "code",
   "execution_count": null,
   "id": "ed8aeb80",
   "metadata": {},
   "outputs": [],
   "source": []
  },
  {
   "cell_type": "code",
   "execution_count": null,
   "id": "a2a41c0a",
   "metadata": {},
   "outputs": [],
   "source": []
  },
  {
   "cell_type": "code",
   "execution_count": null,
   "id": "1af0e840",
   "metadata": {},
   "outputs": [],
   "source": []
  },
  {
   "cell_type": "code",
   "execution_count": null,
   "id": "c7929333",
   "metadata": {},
   "outputs": [],
   "source": []
  },
  {
   "cell_type": "code",
   "execution_count": null,
   "id": "1a8ffca2",
   "metadata": {},
   "outputs": [],
   "source": []
  },
  {
   "cell_type": "code",
   "execution_count": null,
   "id": "8fcba687",
   "metadata": {},
   "outputs": [],
   "source": []
  },
  {
   "cell_type": "code",
   "execution_count": null,
   "id": "720f394a",
   "metadata": {},
   "outputs": [],
   "source": []
  },
  {
   "cell_type": "code",
   "execution_count": null,
   "id": "1695a519",
   "metadata": {},
   "outputs": [],
   "source": []
  },
  {
   "cell_type": "code",
   "execution_count": null,
   "id": "590a7a83",
   "metadata": {},
   "outputs": [],
   "source": []
  },
  {
   "cell_type": "code",
   "execution_count": null,
   "id": "e60ddf99",
   "metadata": {},
   "outputs": [],
   "source": []
  }
 ],
 "metadata": {
  "kernelspec": {
   "display_name": "Python 3 (ipykernel)",
   "language": "python",
   "name": "python3"
  },
  "language_info": {
   "codemirror_mode": {
    "name": "ipython",
    "version": 3
   },
   "file_extension": ".py",
   "mimetype": "text/x-python",
   "name": "python",
   "nbconvert_exporter": "python",
   "pygments_lexer": "ipython3",
   "version": "3.9.7"
  }
 },
 "nbformat": 4,
 "nbformat_minor": 5
}
